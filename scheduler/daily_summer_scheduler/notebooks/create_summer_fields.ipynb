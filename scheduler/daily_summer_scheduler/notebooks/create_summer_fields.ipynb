{
 "cells": [
  {
   "cell_type": "code",
   "execution_count": 1,
   "metadata": {},
   "outputs": [],
   "source": [
    "%matplotlib inline\n",
    "import sys\n",
    "import numpy as np\n",
    "import astropy.coordinates as coord\n",
    "import astropy.units as u\n",
    "import matplotlib.pyplot as plt\n",
    "import matplotlib as mpl\n",
    "from matplotlib.patches import Polygon\n",
    "import matplotlib.colors as colors\n",
    "import matplotlib.cm as cmx\n",
    "import pandas as pd"
   ]
  },
  {
   "cell_type": "code",
   "execution_count": 8,
   "metadata": {},
   "outputs": [
    {
     "name": "stdout",
     "output_type": "stream",
     "text": [
      "Field size 0.26112\n",
      "689.3382352941176 <class 'float'>\n",
      "Grid contains 606845 fields\n"
     ]
    }
   ],
   "source": [
    "# generate list of fields for SUMMER\n",
    "# generate grid of 0.26x0.26 degree fields for SUMMER\n",
    "# NOTE, not exactly 1x1, TODO: fix\n",
    "#    we want a few arc-minute overlap between fields\n",
    "#        ...how to calculate field corners?\n",
    "plot1 = 0\n",
    "plot2 = 0\n",
    "rapoints = []\n",
    "decpoints = []\n",
    "ra1points, ra2points, ra3points, ra4points = [], [], [], []\n",
    "dec1points, dec2points, dec3points, dec4points = [], [], [], []\n",
    "\n",
    "# calculate field size in degrees\n",
    "plate_scale = 0.034 # as/um\n",
    "pix_size = 13.5 # um\n",
    "pix_size_as = plate_scale * pix_size\n",
    "num_pix = 2048\n",
    "field_size = num_pix * pix_size_as  /3600 # degrees on sky\n",
    "print('Field size', field_size)\n",
    "\n",
    "half_size = field_size / 2\n",
    "num_decs = 180 / field_size\n",
    "print(num_decs, type(num_decs))\n",
    "decs = np.linspace(90,-89,int(num_decs))\n",
    "decsB = decs - half_size\n",
    "decsT = decs + half_size\n",
    "for i in range(len(decs)):\n",
    "    circ = np.cos(decs[i]*np.pi/180.)\n",
    "    radiffB = half_size/np.cos(decsB[i]*np.pi/180)\n",
    "    radiffT = half_size/np.cos(decsT[i]*np.pi/180)\n",
    "    numpoints = int(360/field_size*circ+1)\n",
    "    ras = np.linspace(0,360,numpoints)[:-1]\n",
    "    #print(ras)\n",
    "    ra1s = ras - radiffB\n",
    "    ra2s = ras + radiffB\n",
    "    ra4s = ras - radiffT\n",
    "    ra3s = ras + radiffT\n",
    "    ra1points = np.append(ra1points,ra1s)\n",
    "    ra2points = np.append(ra2points,ra2s)\n",
    "    ra3points = np.append(ra3points,ra3s)\n",
    "    ra4points = np.append(ra4points,ra4s)\n",
    "    dec1points = np.append(dec1points,np.ones(numpoints-1)*decsB[i])\n",
    "    dec2points = np.append(dec2points,np.ones(numpoints-1)*decsB[i])\n",
    "    dec3points = np.append(dec3points,np.ones(numpoints-1)*decsT[i])\n",
    "    dec4points = np.append(dec4points,np.ones(numpoints-1)*decsT[i])\n",
    "    decpoints = np.append(decpoints,np.ones(numpoints-1)*decs[i])\n",
    "    rapoints = np.append(rapoints,ras)\n",
    "\n",
    "print('Grid contains %d fields' % (len(rapoints)))\n",
    "ra = coord.Angle(rapoints*u.degree)\n",
    "#print ra.radian\n",
    "#wrap = 180.\n",
    "wrap = 360.\n",
    "ra = ra.wrap_at(wrap*u.degree)\n",
    "#print ra.radian\n",
    "dec = coord.Angle(decpoints*u.degree)\n",
    "\n",
    "if plot1:\n",
    "    fig1 = plt.figure(figsize=(8,6))\n",
    "    ax1 = fig1.add_subplot(111, projection=\"mollweide\")\n",
    "    ax1.scatter(ra.radian, dec.radian, 0.01)\n",
    "\n",
    "ra1points = coord.Angle(ra1points*u.degree)\n",
    "ra1points = ra1points.wrap_at(wrap*u.degree)\n",
    "dec1points = coord.Angle(dec1points*u.degree)\n",
    "\n",
    "ra2points = coord.Angle(ra2points*u.degree)\n",
    "ra2points = ra2points.wrap_at(wrap*u.degree)\n",
    "dec2points = coord.Angle(dec2points*u.degree)\n",
    "\n",
    "ra3points = coord.Angle(ra3points*u.degree)\n",
    "ra3points = ra3points.wrap_at(wrap*u.degree)\n",
    "dec3points = coord.Angle(dec3points*u.degree)\n",
    "\n",
    "ra4points = coord.Angle(ra4points*u.degree)\n",
    "ra4points = ra4points.wrap_at(wrap*u.degree)\n",
    "dec4points = coord.Angle(dec4points*u.degree)\n"
   ]
  },
  {
   "cell_type": "code",
   "execution_count": 10,
   "metadata": {},
   "outputs": [
    {
     "name": "stderr",
     "output_type": "stream",
     "text": [
      "/Users/frostig/opt/anaconda3/lib/python3.7/site-packages/ipykernel_launcher.py:13: DeprecationWarning: `np.int` is a deprecated alias for the builtin `int`. To silence this warning, use `int` by itself. Doing this will not modify any behavior and is safe. When replacing `np.int`, you may wish to use e.g. `np.int64` or `np.int32` to specify the precision. If you wish to review your current use, check the release note link for additional information.\n",
      "Deprecated in NumPy 1.20; for more details and guidance: https://numpy.org/devdocs/release/1.20.0-notes.html#deprecations\n",
      "  del sys.path[0]\n"
     ]
    }
   ],
   "source": [
    "#field_id = np.arange(len(ra))\n",
    "field_id = np.linspace(1,len(ra),len(ra))\n",
    "entry = np.linspace(0,len(ra)-1,len(ra))\n",
    "ebv = np.ones(len(ra))\n",
    "#print(*field_id)\n",
    "data = {}\n",
    "data['field_id'] = field_id\n",
    "data['ra'] = ra.degree\n",
    "data['dec'] = dec.degree\n",
    "c = coord.SkyCoord(ra=ra,dec=dec,frame='icrs')\n",
    "data['l'] = c.galactic.l.degree\n",
    "data['b'] = c.galactic.b.degree\n",
    "data['grid_id'] = np.zeros(len(ra), dtype=np.int)\n",
    "data['eclLon'] = c.geocentricmeanecliptic.lon.degree #geocentricmeanecliptic???\n",
    "data['eclLat'] = c.geocentricmeanecliptic.lat.degree\n",
    "data['entry'] = entry\n",
    "data['ebv'] = ebv\n",
    "\n",
    "#c.transform_t\n",
    "#text_df = pd.DataFrame(data=data, index=data['field_id'], columns=['ra','dec','l','b', 'eclLon', 'eclLat','grid_id'])\n",
    "#text_df = pd.DataFrame(data=data, index=data['field_id'], columns=['ra','dec', 'ebv', 'l','b', 'eclLon', 'eclLat','entry'])"
   ]
  },
  {
   "cell_type": "code",
   "execution_count": 12,
   "metadata": {},
   "outputs": [],
   "source": [
    "# SAVE FIELDS\n",
    "\n",
    "#text_df.to_csv(path_or_buf='../data/WINTER_fields.csv')\n",
    "#text_df = pd.DataFrame(data=data, index=data['field_id'],\n",
    "#                       columns=['field_id','ra','dec','l','b', 'eclLon', 'eclLat', 'grid_id'])\n",
    "#np.savetxt(r'../data/WINTER_fields.txt', text_df, \n",
    "#           header=' ID         RA        Dec       Gal Long    Gal Lat    Ecl Long   Ecl Lat     Grid', \n",
    "#           fmt='%10.5f')\n",
    "\n",
    "text_df = pd.DataFrame(data=data, index=data['field_id'],\n",
    "                       columns=['field_id','ra','dec', 'ebv', 'l','b', 'eclLon', 'eclLat', 'entry'])\n",
    "np.savetxt('SUMMER_fields.txt', text_df, \n",
    "           header='ID         RA         Dec       Ebv      Gal Long  Gal Lat    Ecl Long  Ecl Lat   Entry', \n",
    "           fmt=['%06d', '%10.5f', '%10.5f', '%1.3f', '%10.5f', '%10.5f','%10.5f', '%10.5f','% 4d'])"
   ]
  },
  {
   "cell_type": "code",
   "execution_count": null,
   "metadata": {},
   "outputs": [],
   "source": []
  }
 ],
 "metadata": {
  "kernelspec": {
   "display_name": "Python 3",
   "language": "python",
   "name": "python3"
  },
  "language_info": {
   "codemirror_mode": {
    "name": "ipython",
    "version": 3
   },
   "file_extension": ".py",
   "mimetype": "text/x-python",
   "name": "python",
   "nbconvert_exporter": "python",
   "pygments_lexer": "ipython3",
   "version": "3.7.6"
  }
 },
 "nbformat": 4,
 "nbformat_minor": 4
}
