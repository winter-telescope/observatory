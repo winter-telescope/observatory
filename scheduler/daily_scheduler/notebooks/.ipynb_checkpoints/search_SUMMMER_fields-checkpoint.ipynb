{
 "cells": [
  {
   "cell_type": "code",
   "execution_count": 8,
   "metadata": {
    "collapsed": true
   },
   "outputs": [],
   "source": [
    "import pandas as pd\n",
    "import numpy as np"
   ]
  },
  {
   "cell_type": "code",
   "execution_count": 15,
   "metadata": {},
   "outputs": [],
   "source": [
    "# load field table\n",
    "\n",
    "def rad_to_deg(x):\n",
    "    return x * 180 / np.pi\n",
    "\n",
    "git_path = '/home/winter/WINTER_CODE/code/scheduler/daily_summer_scheduler/data/'\n",
    "\n",
    "field_filename = git_path + 'SUMMER_fields.txt'\n",
    "summer_fields = pd.read_csv(field_filename,\n",
    "            names=['field_id','ra','dec','ebv','l','b',\n",
    "                'ecliptic_lon', 'ecliptic_lat', 'number'],\n",
    "            sep='\\s+',usecols=['field_id','ra','dec', 'l','b', \n",
    "                'ecliptic_lon', 'ecliptic_lat'],index_col='field_id',\n",
    "            skiprows=1)"
   ]
  },
  {
   "cell_type": "code",
   "execution_count": 68,
   "metadata": {},
   "outputs": [
    {
     "name": "stdout",
     "output_type": "stream",
     "text": [
      "74.48451336700703\n",
      "45.83662361046586\n",
      "                ra       dec          l         b  ecliptic_lon  ecliptic_lat\n",
      "field_id                                                                     \n",
      "11033     45.72973  74.38953  131.58029  13.76938      71.46224      53.80541\n",
      "11033\n"
     ]
    }
   ],
   "source": [
    "# example coordinate\n",
    "ra = 0.8\n",
    "dec = 1.3\n",
    "\n",
    "camera_field_size = 0.26112 /2\n",
    "\n",
    "ra_degs = rad_to_deg(ra)\n",
    "dec_degs = rad_to_deg(dec)\n",
    "\n",
    "print(dec_degs)\n",
    "print(ra_degs)\n",
    "\n",
    "# sort dec\n",
    "dec_sort = summer_fields.iloc[((summer_fields['dec']-dec_degs).abs() <= camera_field_size).values]\n",
    "#print(dec_sort)\n",
    "\n",
    "# sort ra\n",
    "ra_sort = dec_sort.iloc[((dec_sort['ra']-ra_degs).abs() <= camera_field_size).values]\n",
    "print(ra_sort)\n",
    "\n",
    "field_num = ra_sort.index[0]\n",
    "print(field_num)"
   ]
  }
 ],
 "metadata": {
  "kernelspec": {
   "display_name": "Python 3",
   "language": "python",
   "name": "python3"
  },
  "language_info": {
   "codemirror_mode": {
    "name": "ipython",
    "version": 3
   },
   "file_extension": ".py",
   "mimetype": "text/x-python",
   "name": "python",
   "nbconvert_exporter": "python",
   "pygments_lexer": "ipython3",
   "version": "3.7.6"
  }
 },
 "nbformat": 4,
 "nbformat_minor": 2
}
