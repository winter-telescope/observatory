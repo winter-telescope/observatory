{
 "cells": [
  {
   "cell_type": "markdown",
   "metadata": {},
   "source": [
    "### ztf_sim_introduction\n",
    "\n",
    "This notebook illustrates basic use of the `ztf_sim` modules."
   ]
  },
  {
   "cell_type": "code",
   "execution_count": 2,
   "metadata": {
    "collapsed": true
   },
   "outputs": [],
   "source": [
    "# hack to get the path right\n",
    "import sys\n",
    "sys.path.append('..')"
   ]
  },
  {
   "cell_type": "code",
   "execution_count": 4,
   "metadata": {
    "collapsed": false
   },
   "outputs": [],
   "source": [
    "import ztf_sim\n",
    "from astropy.time import Time\n",
    "import pandas as pd\n",
    "import numpy as np\n",
    "import astropy.units as u\n",
    "import pylab as plt"
   ]
  },
  {
   "cell_type": "markdown",
   "metadata": {},
   "source": [
    "First we'll generate a test field grid.  You only need to do this the first time you run the simulator."
   ]
  },
  {
   "cell_type": "code",
   "execution_count": 7,
   "metadata": {
    "collapsed": false
   },
   "outputs": [],
   "source": [
    "ztf_sim.fields.generate_test_field_grid()"
   ]
  },
  {
   "cell_type": "markdown",
   "metadata": {},
   "source": [
    "Let's load the Fields object with the default field grid.  `Fields` is a thin wrapper around a [pandas](http://pandas.pydata.org/) DataFrame containing the field information."
   ]
  },
  {
   "cell_type": "code",
   "execution_count": 3,
   "metadata": {
    "collapsed": false
   },
   "outputs": [],
   "source": [
    "f = ztf_sim.fields.Fields()"
   ]
  },
  {
   "cell_type": "markdown",
   "metadata": {},
   "source": [
    "The raw `fieldid` and coordinates are stored as a pandas Dataframe in the `.fields` attribute:"
   ]
  },
  {
   "cell_type": "code",
   "execution_count": 5,
   "metadata": {
    "collapsed": false
   },
   "outputs": [
    {
     "data": {
      "text/html": [
       "<div>\n",
       "<table border=\"1\" class=\"dataframe\">\n",
       "  <thead>\n",
       "    <tr style=\"text-align: right;\">\n",
       "      <th></th>\n",
       "      <th>ra</th>\n",
       "      <th>dec</th>\n",
       "      <th>l</th>\n",
       "      <th>b</th>\n",
       "      <th>ecliptic_lon</th>\n",
       "      <th>ecliptic_lat</th>\n",
       "      <th>gridid</th>\n",
       "    </tr>\n",
       "    <tr>\n",
       "      <th>fieldid</th>\n",
       "      <th></th>\n",
       "      <th></th>\n",
       "      <th></th>\n",
       "      <th></th>\n",
       "      <th></th>\n",
       "      <th></th>\n",
       "      <th></th>\n",
       "    </tr>\n",
       "  </thead>\n",
       "  <tbody>\n",
       "    <tr>\n",
       "      <th>1</th>\n",
       "      <td>24.71429</td>\n",
       "      <td>-85.93846</td>\n",
       "      <td>301.9583</td>\n",
       "      <td>-31.0998</td>\n",
       "      <td>279.8749</td>\n",
       "      <td>-67.9653</td>\n",
       "      <td>0</td>\n",
       "    </tr>\n",
       "    <tr>\n",
       "      <th>2</th>\n",
       "      <td>76.14286</td>\n",
       "      <td>-85.93846</td>\n",
       "      <td>298.7880</td>\n",
       "      <td>-28.8932</td>\n",
       "      <td>272.9102</td>\n",
       "      <td>-70.4811</td>\n",
       "      <td>0</td>\n",
       "    </tr>\n",
       "    <tr>\n",
       "      <th>3</th>\n",
       "      <td>127.57143</td>\n",
       "      <td>-85.93846</td>\n",
       "      <td>298.8484</td>\n",
       "      <td>-25.3715</td>\n",
       "      <td>262.8704</td>\n",
       "      <td>-69.6372</td>\n",
       "      <td>0</td>\n",
       "    </tr>\n",
       "    <tr>\n",
       "      <th>4</th>\n",
       "      <td>179.00000</td>\n",
       "      <td>-85.93846</td>\n",
       "      <td>301.8744</td>\n",
       "      <td>-23.1810</td>\n",
       "      <td>259.8520</td>\n",
       "      <td>-66.3010</td>\n",
       "      <td>0</td>\n",
       "    </tr>\n",
       "    <tr>\n",
       "      <th>5</th>\n",
       "      <td>230.42857</td>\n",
       "      <td>-85.93846</td>\n",
       "      <td>305.6390</td>\n",
       "      <td>-23.8833</td>\n",
       "      <td>264.2344</td>\n",
       "      <td>-63.3114</td>\n",
       "      <td>0</td>\n",
       "    </tr>\n",
       "  </tbody>\n",
       "</table>\n",
       "</div>"
      ],
      "text/plain": [
       "                ra       dec         l        b  ecliptic_lon  ecliptic_lat  \\\n",
       "fieldid                                                                       \n",
       "1         24.71429 -85.93846  301.9583 -31.0998      279.8749      -67.9653   \n",
       "2         76.14286 -85.93846  298.7880 -28.8932      272.9102      -70.4811   \n",
       "3        127.57143 -85.93846  298.8484 -25.3715      262.8704      -69.6372   \n",
       "4        179.00000 -85.93846  301.8744 -23.1810      259.8520      -66.3010   \n",
       "5        230.42857 -85.93846  305.6390 -23.8833      264.2344      -63.3114   \n",
       "\n",
       "         gridid  \n",
       "fieldid          \n",
       "1             0  \n",
       "2             0  \n",
       "3             0  \n",
       "4             0  \n",
       "5             0  "
      ]
     },
     "execution_count": 5,
     "metadata": {},
     "output_type": "execute_result"
    }
   ],
   "source": [
    "f.fields.head()"
   ]
  },
  {
   "cell_type": "markdown",
   "metadata": {},
   "source": [
    "Now let's calculate their altitude and azimuth at a specific time using the astropy.time.Time object:"
   ]
  },
  {
   "cell_type": "code",
   "execution_count": 7,
   "metadata": {
    "collapsed": false
   },
   "outputs": [
    {
     "data": {
      "text/html": [
       "<div>\n",
       "<table border=\"1\" class=\"dataframe\">\n",
       "  <thead>\n",
       "    <tr style=\"text-align: right;\">\n",
       "      <th></th>\n",
       "      <th>alt</th>\n",
       "      <th>az</th>\n",
       "    </tr>\n",
       "    <tr>\n",
       "      <th>fieldid</th>\n",
       "      <th></th>\n",
       "      <th></th>\n",
       "    </tr>\n",
       "  </thead>\n",
       "  <tbody>\n",
       "    <tr>\n",
       "      <th>1</th>\n",
       "      <td>-31.134010</td>\n",
       "      <td>175.873088</td>\n",
       "    </tr>\n",
       "    <tr>\n",
       "      <th>2</th>\n",
       "      <td>-34.626053</td>\n",
       "      <td>175.327344</td>\n",
       "    </tr>\n",
       "    <tr>\n",
       "      <th>3</th>\n",
       "      <td>-37.135161</td>\n",
       "      <td>178.378502</td>\n",
       "    </tr>\n",
       "    <tr>\n",
       "      <th>4</th>\n",
       "      <td>-36.638405</td>\n",
       "      <td>182.738308</td>\n",
       "    </tr>\n",
       "    <tr>\n",
       "      <th>5</th>\n",
       "      <td>-33.548102</td>\n",
       "      <td>184.803689</td>\n",
       "    </tr>\n",
       "  </tbody>\n",
       "</table>\n",
       "</div>"
      ],
      "text/plain": [
       "               alt          az\n",
       "fieldid                       \n",
       "1       -31.134010  175.873088\n",
       "2       -34.626053  175.327344\n",
       "3       -37.135161  178.378502\n",
       "4       -36.638405  182.738308\n",
       "5       -33.548102  184.803689"
      ]
     },
     "execution_count": 7,
     "metadata": {},
     "output_type": "execute_result"
    }
   ],
   "source": [
    "f.alt_az(Time.now()).head()"
   ]
  },
  {
   "cell_type": "markdown",
   "metadata": {},
   "source": [
    "Demonstrating low-level access to fields by the `fieldid` index (usually not required):"
   ]
  },
  {
   "cell_type": "code",
   "execution_count": 5,
   "metadata": {
    "collapsed": false
   },
   "outputs": [
    {
     "data": {
      "text/plain": [
       "ra              141.50000\n",
       "dec              66.36923\n",
       "l               146.99200\n",
       "b                39.82990\n",
       "ecliptic_lon    117.86480\n",
       "ecliptic_lat     47.84160\n",
       "gridid            0.00000\n",
       "Name: 853, dtype: float64"
      ]
     },
     "execution_count": 5,
     "metadata": {},
     "output_type": "execute_result"
    }
   ],
   "source": [
    "f.fields.loc[853]"
   ]
  },
  {
   "cell_type": "markdown",
   "metadata": {},
   "source": [
    "We can select fields with conditionals:"
   ]
  },
  {
   "cell_type": "code",
   "execution_count": 8,
   "metadata": {
    "collapsed": false
   },
   "outputs": [
    {
     "data": {
      "text/plain": [
       "fieldid\n",
       "1       False\n",
       "2       False\n",
       "3       False\n",
       "4       False\n",
       "5       False\n",
       "6       False\n",
       "7       False\n",
       "8       False\n",
       "9       False\n",
       "10      False\n",
       "11      False\n",
       "12      False\n",
       "13      False\n",
       "14      False\n",
       "15      False\n",
       "16      False\n",
       "17      False\n",
       "18      False\n",
       "19      False\n",
       "20      False\n",
       "21      False\n",
       "22      False\n",
       "23      False\n",
       "24      False\n",
       "25      False\n",
       "26      False\n",
       "27      False\n",
       "28      False\n",
       "29      False\n",
       "30      False\n",
       "        ...  \n",
       "1877     True\n",
       "1878     True\n",
       "1879     True\n",
       "1880     True\n",
       "1881     True\n",
       "1882     True\n",
       "1883     True\n",
       "1884     True\n",
       "1885     True\n",
       "1886     True\n",
       "1887     True\n",
       "1888     True\n",
       "1889     True\n",
       "1890     True\n",
       "1891     True\n",
       "1892     True\n",
       "1893     True\n",
       "1894     True\n",
       "1895     True\n",
       "1896     True\n",
       "1897     True\n",
       "1898     True\n",
       "1899     True\n",
       "1900     True\n",
       "1901     True\n",
       "1902     True\n",
       "1903     True\n",
       "1904     True\n",
       "1905     True\n",
       "1906     True\n",
       "Name: dec, dtype: bool"
      ]
     },
     "execution_count": 8,
     "metadata": {},
     "output_type": "execute_result"
    }
   ],
   "source": [
    "f.fields['dec'] > -30."
   ]
  },
  {
   "cell_type": "markdown",
   "metadata": {},
   "source": [
    "It's easier to use the `select_fields` convenience function, though.  It returns a boolean Series indexed by `fieldid` that we can use to do calculations on subsets of the field grid."
   ]
  },
  {
   "cell_type": "code",
   "execution_count": 15,
   "metadata": {
    "collapsed": false
   },
   "outputs": [
    {
     "data": {
      "text/plain": [
       "fieldid\n",
       "1    False\n",
       "2    False\n",
       "3    False\n",
       "4    False\n",
       "5    False\n",
       "dtype: bool"
      ]
     },
     "execution_count": 15,
     "metadata": {},
     "output_type": "execute_result"
    }
   ],
   "source": [
    "cuts = f.select_fields(dec_range=[0,10],gridid=0,ecliptic_lat_range=[-5,5])\n",
    "cuts.head()"
   ]
  },
  {
   "cell_type": "markdown",
   "metadata": {},
   "source": [
    "Calculate the current altitude and azimuth of the selected fields:"
   ]
  },
  {
   "cell_type": "code",
   "execution_count": 13,
   "metadata": {
    "collapsed": false
   },
   "outputs": [
    {
     "data": {
      "text/html": [
       "<div>\n",
       "<table border=\"1\" class=\"dataframe\">\n",
       "  <thead>\n",
       "    <tr style=\"text-align: right;\">\n",
       "      <th></th>\n",
       "      <th>alt</th>\n",
       "      <th>az</th>\n",
       "    </tr>\n",
       "    <tr>\n",
       "      <th>fieldid</th>\n",
       "      <th></th>\n",
       "      <th></th>\n",
       "    </tr>\n",
       "  </thead>\n",
       "  <tbody>\n",
       "    <tr>\n",
       "      <th>454</th>\n",
       "      <td>49.138756</td>\n",
       "      <td>128.947449</td>\n",
       "    </tr>\n",
       "    <tr>\n",
       "      <th>455</th>\n",
       "      <td>44.316111</td>\n",
       "      <td>121.449922</td>\n",
       "    </tr>\n",
       "    <tr>\n",
       "      <th>456</th>\n",
       "      <td>39.119046</td>\n",
       "      <td>115.075923</td>\n",
       "    </tr>\n",
       "    <tr>\n",
       "      <th>476</th>\n",
       "      <td>-52.241055</td>\n",
       "      <td>350.229286</td>\n",
       "    </tr>\n",
       "    <tr>\n",
       "      <th>477</th>\n",
       "      <td>-50.685836</td>\n",
       "      <td>339.194556</td>\n",
       "    </tr>\n",
       "    <tr>\n",
       "      <th>478</th>\n",
       "      <td>-48.112472</td>\n",
       "      <td>329.112148</td>\n",
       "    </tr>\n",
       "    <tr>\n",
       "      <th>479</th>\n",
       "      <td>-44.696989</td>\n",
       "      <td>320.172906</td>\n",
       "    </tr>\n",
       "  </tbody>\n",
       "</table>\n",
       "</div>"
      ],
      "text/plain": [
       "               alt          az\n",
       "fieldid                       \n",
       "454      49.138756  128.947449\n",
       "455      44.316111  121.449922\n",
       "456      39.119046  115.075923\n",
       "476     -52.241055  350.229286\n",
       "477     -50.685836  339.194556\n",
       "478     -48.112472  329.112148\n",
       "479     -44.696989  320.172906"
      ]
     },
     "execution_count": 13,
     "metadata": {},
     "output_type": "execute_result"
    }
   ],
   "source": [
    "f.alt_az(Time.now(),cuts=cuts)"
   ]
  },
  {
   "cell_type": "markdown",
   "metadata": {},
   "source": [
    "Calculating the overhead time (max of ha, dec, dome slews and readout time):"
   ]
  },
  {
   "cell_type": "code",
   "execution_count": 12,
   "metadata": {
    "collapsed": false
   },
   "outputs": [
    {
     "data": {
      "text/html": [
       "<div>\n",
       "<table border=\"1\" class=\"dataframe\">\n",
       "  <thead>\n",
       "    <tr style=\"text-align: right;\">\n",
       "      <th></th>\n",
       "      <th>overhead_time</th>\n",
       "    </tr>\n",
       "    <tr>\n",
       "      <th>fieldid</th>\n",
       "      <th></th>\n",
       "    </tr>\n",
       "  </thead>\n",
       "  <tbody>\n",
       "    <tr>\n",
       "      <th>1</th>\n",
       "      <td>133.923075</td>\n",
       "    </tr>\n",
       "    <tr>\n",
       "      <th>2</th>\n",
       "      <td>133.923075</td>\n",
       "    </tr>\n",
       "    <tr>\n",
       "      <th>3</th>\n",
       "      <td>133.923075</td>\n",
       "    </tr>\n",
       "    <tr>\n",
       "      <th>4</th>\n",
       "      <td>133.923075</td>\n",
       "    </tr>\n",
       "    <tr>\n",
       "      <th>5</th>\n",
       "      <td>133.923075</td>\n",
       "    </tr>\n",
       "    <tr>\n",
       "      <th>6</th>\n",
       "      <td>133.923075</td>\n",
       "    </tr>\n",
       "    <tr>\n",
       "      <th>7</th>\n",
       "      <td>133.923075</td>\n",
       "    </tr>\n",
       "    <tr>\n",
       "      <th>8</th>\n",
       "      <td>128.153842</td>\n",
       "    </tr>\n",
       "    <tr>\n",
       "      <th>9</th>\n",
       "      <td>128.153842</td>\n",
       "    </tr>\n",
       "    <tr>\n",
       "      <th>10</th>\n",
       "      <td>128.153842</td>\n",
       "    </tr>\n",
       "    <tr>\n",
       "      <th>11</th>\n",
       "      <td>128.153842</td>\n",
       "    </tr>\n",
       "    <tr>\n",
       "      <th>12</th>\n",
       "      <td>128.153842</td>\n",
       "    </tr>\n",
       "    <tr>\n",
       "      <th>13</th>\n",
       "      <td>128.153842</td>\n",
       "    </tr>\n",
       "    <tr>\n",
       "      <th>14</th>\n",
       "      <td>128.153842</td>\n",
       "    </tr>\n",
       "    <tr>\n",
       "      <th>15</th>\n",
       "      <td>128.153842</td>\n",
       "    </tr>\n",
       "    <tr>\n",
       "      <th>16</th>\n",
       "      <td>128.153842</td>\n",
       "    </tr>\n",
       "    <tr>\n",
       "      <th>17</th>\n",
       "      <td>128.153842</td>\n",
       "    </tr>\n",
       "    <tr>\n",
       "      <th>18</th>\n",
       "      <td>128.153842</td>\n",
       "    </tr>\n",
       "    <tr>\n",
       "      <th>19</th>\n",
       "      <td>128.153842</td>\n",
       "    </tr>\n",
       "    <tr>\n",
       "      <th>20</th>\n",
       "      <td>128.153842</td>\n",
       "    </tr>\n",
       "    <tr>\n",
       "      <th>21</th>\n",
       "      <td>122.384617</td>\n",
       "    </tr>\n",
       "    <tr>\n",
       "      <th>22</th>\n",
       "      <td>122.384617</td>\n",
       "    </tr>\n",
       "    <tr>\n",
       "      <th>23</th>\n",
       "      <td>122.384617</td>\n",
       "    </tr>\n",
       "    <tr>\n",
       "      <th>24</th>\n",
       "      <td>122.384617</td>\n",
       "    </tr>\n",
       "    <tr>\n",
       "      <th>25</th>\n",
       "      <td>122.384617</td>\n",
       "    </tr>\n",
       "    <tr>\n",
       "      <th>26</th>\n",
       "      <td>122.384617</td>\n",
       "    </tr>\n",
       "    <tr>\n",
       "      <th>27</th>\n",
       "      <td>122.384617</td>\n",
       "    </tr>\n",
       "    <tr>\n",
       "      <th>28</th>\n",
       "      <td>122.384617</td>\n",
       "    </tr>\n",
       "    <tr>\n",
       "      <th>29</th>\n",
       "      <td>122.384617</td>\n",
       "    </tr>\n",
       "    <tr>\n",
       "      <th>30</th>\n",
       "      <td>122.384617</td>\n",
       "    </tr>\n",
       "    <tr>\n",
       "      <th>...</th>\n",
       "      <td>...</td>\n",
       "    </tr>\n",
       "    <tr>\n",
       "      <th>1877</th>\n",
       "      <td>31.329051</td>\n",
       "    </tr>\n",
       "    <tr>\n",
       "      <th>1878</th>\n",
       "      <td>43.171157</td>\n",
       "    </tr>\n",
       "    <tr>\n",
       "      <th>1879</th>\n",
       "      <td>55.013263</td>\n",
       "    </tr>\n",
       "    <tr>\n",
       "      <th>1880</th>\n",
       "      <td>66.855370</td>\n",
       "    </tr>\n",
       "    <tr>\n",
       "      <th>1881</th>\n",
       "      <td>78.697470</td>\n",
       "    </tr>\n",
       "    <tr>\n",
       "      <th>1882</th>\n",
       "      <td>90.539576</td>\n",
       "    </tr>\n",
       "    <tr>\n",
       "      <th>1883</th>\n",
       "      <td>102.381682</td>\n",
       "    </tr>\n",
       "    <tr>\n",
       "      <th>1884</th>\n",
       "      <td>114.223788</td>\n",
       "    </tr>\n",
       "    <tr>\n",
       "      <th>1885</th>\n",
       "      <td>110.785957</td>\n",
       "    </tr>\n",
       "    <tr>\n",
       "      <th>1886</th>\n",
       "      <td>98.943851</td>\n",
       "    </tr>\n",
       "    <tr>\n",
       "      <th>1887</th>\n",
       "      <td>84.368957</td>\n",
       "    </tr>\n",
       "    <tr>\n",
       "      <th>1888</th>\n",
       "      <td>67.061263</td>\n",
       "    </tr>\n",
       "    <tr>\n",
       "      <th>1889</th>\n",
       "      <td>49.753570</td>\n",
       "    </tr>\n",
       "    <tr>\n",
       "      <th>1890</th>\n",
       "      <td>32.445876</td>\n",
       "    </tr>\n",
       "    <tr>\n",
       "      <th>1891</th>\n",
       "      <td>21.225958</td>\n",
       "    </tr>\n",
       "    <tr>\n",
       "      <th>1892</th>\n",
       "      <td>21.225958</td>\n",
       "    </tr>\n",
       "    <tr>\n",
       "      <th>1893</th>\n",
       "      <td>31.329051</td>\n",
       "    </tr>\n",
       "    <tr>\n",
       "      <th>1894</th>\n",
       "      <td>48.636745</td>\n",
       "    </tr>\n",
       "    <tr>\n",
       "      <th>1895</th>\n",
       "      <td>65.944438</td>\n",
       "    </tr>\n",
       "    <tr>\n",
       "      <th>1896</th>\n",
       "      <td>83.252126</td>\n",
       "    </tr>\n",
       "    <tr>\n",
       "      <th>1897</th>\n",
       "      <td>100.559820</td>\n",
       "    </tr>\n",
       "    <tr>\n",
       "      <th>1898</th>\n",
       "      <td>117.867513</td>\n",
       "    </tr>\n",
       "    <tr>\n",
       "      <th>1899</th>\n",
       "      <td>101.676645</td>\n",
       "    </tr>\n",
       "    <tr>\n",
       "      <th>1900</th>\n",
       "      <td>76.951370</td>\n",
       "    </tr>\n",
       "    <tr>\n",
       "      <th>1901</th>\n",
       "      <td>44.808513</td>\n",
       "    </tr>\n",
       "    <tr>\n",
       "      <th>1902</th>\n",
       "      <td>26.692308</td>\n",
       "    </tr>\n",
       "    <tr>\n",
       "      <th>1903</th>\n",
       "      <td>31.329051</td>\n",
       "    </tr>\n",
       "    <tr>\n",
       "      <th>1904</th>\n",
       "      <td>63.471907</td>\n",
       "    </tr>\n",
       "    <tr>\n",
       "      <th>1905</th>\n",
       "      <td>95.614763</td>\n",
       "    </tr>\n",
       "    <tr>\n",
       "      <th>1906</th>\n",
       "      <td>109.094232</td>\n",
       "    </tr>\n",
       "  </tbody>\n",
       "</table>\n",
       "<p>1812 rows × 1 columns</p>\n",
       "</div>"
      ],
      "text/plain": [
       "         overhead_time\n",
       "fieldid               \n",
       "1           133.923075\n",
       "2           133.923075\n",
       "3           133.923075\n",
       "4           133.923075\n",
       "5           133.923075\n",
       "6           133.923075\n",
       "7           133.923075\n",
       "8           128.153842\n",
       "9           128.153842\n",
       "10          128.153842\n",
       "11          128.153842\n",
       "12          128.153842\n",
       "13          128.153842\n",
       "14          128.153842\n",
       "15          128.153842\n",
       "16          128.153842\n",
       "17          128.153842\n",
       "18          128.153842\n",
       "19          128.153842\n",
       "20          128.153842\n",
       "21          122.384617\n",
       "22          122.384617\n",
       "23          122.384617\n",
       "24          122.384617\n",
       "25          122.384617\n",
       "26          122.384617\n",
       "27          122.384617\n",
       "28          122.384617\n",
       "29          122.384617\n",
       "30          122.384617\n",
       "...                ...\n",
       "1877         31.329051\n",
       "1878         43.171157\n",
       "1879         55.013263\n",
       "1880         66.855370\n",
       "1881         78.697470\n",
       "1882         90.539576\n",
       "1883        102.381682\n",
       "1884        114.223788\n",
       "1885        110.785957\n",
       "1886         98.943851\n",
       "1887         84.368957\n",
       "1888         67.061263\n",
       "1889         49.753570\n",
       "1890         32.445876\n",
       "1891         21.225958\n",
       "1892         21.225958\n",
       "1893         31.329051\n",
       "1894         48.636745\n",
       "1895         65.944438\n",
       "1896         83.252126\n",
       "1897        100.559820\n",
       "1898        117.867513\n",
       "1899        101.676645\n",
       "1900         76.951370\n",
       "1901         44.808513\n",
       "1902         26.692308\n",
       "1903         31.329051\n",
       "1904         63.471907\n",
       "1905         95.614763\n",
       "1906        109.094232\n",
       "\n",
       "[1812 rows x 1 columns]"
      ]
     },
     "execution_count": 12,
     "metadata": {},
     "output_type": "execute_result"
    }
   ],
   "source": [
    "f.overhead_time(853,Time.now())"
   ]
  },
  {
   "cell_type": "code",
   "execution_count": null,
   "metadata": {
    "collapsed": true
   },
   "outputs": [],
   "source": []
  },
  {
   "cell_type": "code",
   "execution_count": null,
   "metadata": {
    "collapsed": true
   },
   "outputs": [],
   "source": []
  },
  {
   "cell_type": "code",
   "execution_count": null,
   "metadata": {
    "collapsed": true
   },
   "outputs": [],
   "source": []
  },
  {
   "cell_type": "code",
   "execution_count": null,
   "metadata": {
    "collapsed": true
   },
   "outputs": [],
   "source": []
  },
  {
   "cell_type": "code",
   "execution_count": null,
   "metadata": {
    "collapsed": true
   },
   "outputs": [],
   "source": []
  },
  {
   "cell_type": "code",
   "execution_count": null,
   "metadata": {
    "collapsed": true
   },
   "outputs": [],
   "source": []
  },
  {
   "cell_type": "code",
   "execution_count": null,
   "metadata": {
    "collapsed": true
   },
   "outputs": [],
   "source": []
  },
  {
   "cell_type": "code",
   "execution_count": null,
   "metadata": {
    "collapsed": false
   },
   "outputs": [],
   "source": [
    "f = ztf_sim.fields.Fields()\n",
    "Exposure_time = 60*u.second\n",
    "Night_length=9*u.h\n",
    "\n",
    "\n",
    "time0 = Time('2015-09-10 20:00:00') + 7*u.h\n",
    "time = time0\n",
    "f.fields = f.fields.join(pd.DataFrame(np.zeros(len(f.fields)),columns=['observed']))\n",
    "f.fields = f.fields.join(pd.DataFrame(np.zeros(len(f.fields)),columns=['possibleToObserve']))\n",
    "\n",
    "def observe(f, nightStart):\n",
    "    time=nightStart\n",
    "    goodAltitude = f.alt_az(time)['alt'] > 20\n",
    "    shouldObserve = f.fields['observed'] == 0\n",
    "    good = goodAltitude & shouldObserve #& f.alt_az(time+1*u.h)['alt'] < 20 # start with a field which won't be observable later\n",
    "    \n",
    "    if np.all(good) is False:\n",
    "        good = goodAltitude & shouldObserve\n",
    "        \n",
    "    fid = f.fields[good].iloc[0].name\n",
    "    f.fields['observed'][fid]+=1\n",
    "    f.fields['possibleToObserve'][goodAltitude] = 1\n",
    "    time += Exposure_time\n",
    "\n",
    "    while time < nightStart + Night_length:\n",
    "        goodAltitude = f.alt_az(time)['alt'] > 20\n",
    "        shouldObserve = f.fields['observed'] == 0\n",
    "        good = goodAltitude & shouldObserve\n",
    "        f.fields['possibleToObserve'][goodAltitude] = 1\n",
    "        \n",
    "        if not np.any(good):\n",
    "            time += 60*u.s\n",
    "            continue\n",
    "            \n",
    "        slewTime = f.overhead_time(fid,time)[good]\n",
    "        fid = int(slewTime.idxmin())\n",
    "        # print slewTime['overhead_time'][fid]\n",
    "        time += Exposure_time + slewTime['overhead_time'][fid]*u.second\n",
    "        f.fields['observed'][fid]+=1\n",
    "        # print time-7*u.h\n",
    "        \n",
    "\n",
    "# First night\n",
    "observe(f,time)\n",
    "fieldsPossible = np.sum(f.fields['possibleToObserve'])\n",
    "print fieldsPossible\n",
    "fieldsObserved = np.sum(f.fields['observed'])\n",
    "print fieldsObserved\n",
    "meanTime = (Night_length.to(u.s)-fieldsObserved*Exposure_time)/(fieldsObserved-1)\n",
    "print meanTime\n",
    "\n",
    "# Second night\n",
    "time=time0+24*u.h\n",
    "observe(f,time)\n",
    "fieldsPossible = np.sum(f.fields['possibleToObserve'])\n",
    "print fieldsPossible\n",
    "fieldsObserved = np.sum(f.fields['observed'])\n",
    "print fieldsObserved\n",
    "meanTime = (2*Night_length.to(u.s)-fieldsObserved*Exposure_time)/(fieldsObserved-1)\n",
    "print meanTime"
   ]
  },
  {
   "cell_type": "code",
   "execution_count": null,
   "metadata": {
    "collapsed": false,
    "scrolled": true
   },
   "outputs": [],
   "source": [
    "for dec in np.append(np.linspace(-90,90,10),0):\n",
    "    ra=np.linspace(0, 360,1000)\n",
    "    x,y = raDec2xy(ra,dec)\n",
    "    plt.plot(x,y,'k')\n",
    "    \n",
    "for ra in np.linspace(0,360,10):\n",
    "    dec=np.linspace(-90, 90,1000)\n",
    "    x,y = raDec2xy(ra,dec)\n",
    "    plt.plot(x,y,'k')\n",
    "    \n",
    "x,y = raDec2xy(f.fields['ra'],f.fields['dec'])\n",
    "plt.plot(x,y,'o',color=(.8,.8,.8))    \n",
    "plt.show()"
   ]
  },
  {
   "cell_type": "code",
   "execution_count": 6,
   "metadata": {
    "collapsed": false
   },
   "outputs": [],
   "source": [
    "def raDec2xy(ra,dec):\n",
    "    # Using Aitoff projections (from Wiki) returns x-y coordinates on a plane of RA and Dec\n",
    "    theta = np.deg2rad(dec)\n",
    "    phi = np.deg2rad(ra)-np.pi #the range is [-pi,pi]\n",
    "    alpha=np.arccos(np.cos(theta)*np.cos(phi/2))\n",
    "    x=2*np.cos(theta)*np.sin(phi/2)/np.sinc(alpha/np.pi) # The python's sinc is normalazid, hence the /pi\n",
    "    y=np.sin(theta)/np.sinc(alpha/np.pi)\n",
    "    return x,y"
   ]
  },
  {
   "cell_type": "code",
   "execution_count": null,
   "metadata": {
    "collapsed": false
   },
   "outputs": [],
   "source": []
  },
  {
   "cell_type": "code",
   "execution_count": null,
   "metadata": {
    "collapsed": false
   },
   "outputs": [],
   "source": []
  },
  {
   "cell_type": "code",
   "execution_count": null,
   "metadata": {
    "collapsed": false
   },
   "outputs": [],
   "source": []
  },
  {
   "cell_type": "code",
   "execution_count": null,
   "metadata": {
    "collapsed": true
   },
   "outputs": [],
   "source": []
  },
  {
   "cell_type": "code",
   "execution_count": null,
   "metadata": {
    "collapsed": true
   },
   "outputs": [],
   "source": []
  }
 ],
 "metadata": {
  "kernelspec": {
   "display_name": "Python 2",
   "language": "python",
   "name": "python2"
  },
  "language_info": {
   "codemirror_mode": {
    "name": "ipython",
    "version": 2
   },
   "file_extension": ".py",
   "mimetype": "text/x-python",
   "name": "python",
   "nbconvert_exporter": "python",
   "pygments_lexer": "ipython2",
   "version": "2.7.12"
  }
 },
 "nbformat": 4,
 "nbformat_minor": 0
}
