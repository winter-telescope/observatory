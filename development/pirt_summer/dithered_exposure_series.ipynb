{
 "cells": [
  {
   "cell_type": "markdown",
   "id": "712ae873",
   "metadata": {},
   "source": [
    "# Dithered Exposure Series\n",
    "\n"
   ]
  },
  {
   "cell_type": "code",
   "execution_count": null,
   "id": "bcaabdd1",
   "metadata": {},
   "outputs": [
    {
     "name": "stdout",
     "output_type": "stream",
     "text": [
      "Connected to camera server at 192.168.1.15:5555\n"
     ]
    },
    {
     "data": {
      "text/plain": [
       "{'status': 'success', 'message': 'Object set to VIS-SWIR QE Measurement'}"
      ]
     },
     "execution_count": 19,
     "metadata": {},
     "output_type": "execute_result"
    }
   ],
   "source": [
    "# First to connect to the camera\n",
    "\n",
    "# CAMERA SERVER\n",
    "from wsp.viscam.pirt_client import CameraClient\n",
    "\n",
    "# Connect to the camera server\n",
    "cam = CameraClient(\"192.168.1.15\", 5555)\n",
    "cam.connect()\n",
    "\n",
    "# Make sure the camera has all corrections turned off\n",
    "cam.set_correction(\"GAIN\", \"OFF\")\n",
    "cam.set_correction(\"OFFSET\", \"OFF\")   \n",
    "cam.set_correction(\"SUB\", \"OFF\")\n",
    "cam.set_observer_name(\"Nate Lourie\")\n"
   ]
  },
  {
   "cell_type": "code",
   "execution_count": 30,
   "id": "066262f0",
   "metadata": {},
   "outputs": [
    {
     "data": {
      "text/plain": [
       "1"
      ]
     },
     "execution_count": 30,
     "metadata": {},
     "output_type": "execute_result"
    }
   ],
   "source": [
    "# Get set up to communicate with WSP\n",
    "import os\n",
    "import time\n",
    "from datetime import datetime, timedelta\n",
    "import numpy as np\n",
    "import sys\n",
    "from socket import socket, AF_INET, SOCK_STREAM\n",
    "\n",
    "#%% init a tcp-ip connection to wsp\n",
    "\n",
    "sock = socket(AF_INET, SOCK_STREAM)\n",
    "wsp_cmd_server_address = (\"192.168.1.10\", 7000)\n",
    "sock.connect(wsp_cmd_server_address)\n",
    "\n",
    "def send(cmd):\n",
    "    try:\n",
    "        sock.sendall(bytes(cmd, \"utf-8\"))\n",
    "        return 1\n",
    "    except Exception as e:\n",
    "        return 0, e\n",
    "\n",
    "# test the comman connection\n",
    "send(\"xyzzy\")"
   ]
  },
  {
   "cell_type": "code",
   "execution_count": null,
   "id": "e3fff864",
   "metadata": {},
   "outputs": [
    {
     "data": {
      "text/plain": [
       "1"
      ]
     },
     "execution_count": 28,
     "metadata": {},
     "output_type": "execute_result"
    }
   ],
   "source": []
  },
  {
   "cell_type": "code",
   "execution_count": 13,
   "id": "d6b97d5e",
   "metadata": {},
   "outputs": [
    {
     "name": "stdout",
     "output_type": "stream",
     "text": [
      "RA: converted RA = 233.4685 deg, Fritz raDeg = 233.4685 deg\n",
      "Dec: converted Dec = 30.8334 deg, Fritz decDeg = 30.8334 deg\n"
     ]
    }
   ],
   "source": [
    "from astropy.coordinates import Angle\n",
    "import astropy.units as u\n",
    "\n",
    "# RA/Dec of the target\n",
    "raDeg, decDeg = 233.468548,  30.833366\n",
    "\n",
    "ra, dec = \"15:33:52.45\", \"+30:50:00.12\"\n",
    "\n",
    "ra_astropy = Angle(ra, unit = u.hour)\n",
    "dec_astropy = Angle(dec, unit = u.deg)\n",
    "\n",
    "print(f\"RA: converted RA = {ra_astropy.deg:.4f} deg, Fritz raDeg = {raDeg:.4f} deg\")\n",
    "print(f\"Dec: converted Dec = {dec_astropy.deg:.4f} deg, Fritz decDeg = {decDeg:.4f} deg\")\n",
    "\n",
    "targName = \"WNTR25fboyy\"\n",
    "filterName = \"J\"\n",
    "progPI = \"Lourie\"\n",
    "\n",
    "#%% Set up the exposure series parameters\n",
    "n_dithers = 8\n",
    "exptime = 30.0\n",
    "n_imgs_per_dither = 4\n",
    "# note that this is the same total exptime\n",
    "# as the WINTER 8*120 s approach but with shorter\n",
    "# exposures\n",
    "\n",
    "#%% Set up the dither pattern\n",
    "ditherMinStep_as = 75 # ditherMinStep_as\n",
    "ditherMaxStep_as = 90 # ditherMaxStep_as\n",
    "\n",
    "\n"
   ]
  },
  {
   "cell_type": "code",
   "execution_count": null,
   "id": "f2d2bd7d",
   "metadata": {},
   "outputs": [],
   "source": [
    "# Get on target\n",
    "\n",
    "send(\"dome_tracking_on\")\n",
    "time.sleep(1)\n",
    "cmd = f\"mount_goto_ra_dec_j2000 {ra} {dec}\"\n",
    "send(cmd)\n"
   ]
  },
  {
   "cell_type": "code",
   "execution_count": 16,
   "id": "cfdf39b5",
   "metadata": {},
   "outputs": [],
   "source": [
    "# Need to apply any offsets?\n",
    "\n",
    "ra_offset_arcmin = 0.0\n",
    "dec_offset_arcmin = 0.0\n",
    "\n",
    "# apply the offsets in arcseconds\n",
    "ra_offset_arcsec = ra_offset_arcmin * 60.0\n",
    "dec_offset_arcsec = dec_offset_arcmin * 60.0\n",
    "if ra_offset_arcsec !=0.0:\n",
    "    send(f\"mount_offset ra add_arcsec {ra_offset_arcsec:.0f}\")\n",
    "if dec_offset_arcsec !=0.0:\n",
    "    send(f\"mount_offset dec add_arcsec {dec_offset_arcsec:.0f}\")\n",
    "\n",
    "\n"
   ]
  },
  {
   "cell_type": "code",
   "execution_count": null,
   "id": "090244f4",
   "metadata": {},
   "outputs": [
    {
     "data": {
      "text/plain": [
       "{'status': 'success',\n",
       " 'message': 'Save path set to C:\\\\Users\\\\oir-user\\\\data\\\\commissioning\\x8250803\\\\{targName}'}"
      ]
     },
     "execution_count": 31,
     "metadata": {},
     "output_type": "execute_result"
    }
   ],
   "source": [
    "# send some commands to the camera\n",
    "cam.set_object_name(targName)\n",
    "\n",
    "cam.set_exposure(exptime)\n",
    "\n",
    "cam.set_save_path(f\"~\\data\\commissioning\\20250803\\{targName}\")\n"
   ]
  },
  {
   "cell_type": "code",
   "execution_count": null,
   "id": "480ccb91",
   "metadata": {},
   "outputs": [
    {
     "name": "stdout",
     "output_type": "stream",
     "text": [
      "Dither (dRA, dDec) = (56.6, 64.8) as\n"
     ]
    },
    {
     "data": {
      "text/plain": [
       "1"
      ]
     },
     "execution_count": 9,
     "metadata": {},
     "output_type": "execute_result"
    }
   ],
   "source": [
    "# Execute the dithered exposure series\n",
    "\n",
    "print(f\"Starting dithered exposure series for target {targName} at RA {ra} and Dec {dec}\")\n",
    "print(f\"Executing {n_dithers} dithers with {n_imgs_per_dither} images at {exptime} s each\")\n",
    "\n",
    "for i in range(n_dithers):\n",
    "\n",
    "    print(f\"Starting dither {i+1} of {n_dithers}\"\n",
    "          f\" with {n_imgs_per_dither} images at {exptime} s each\"\n",
    "    )\n",
    "\n",
    "    # build the header\n",
    "    header = {\n",
    "        \"TARGNAME\": targName,\n",
    "        \"OBSTYPE\" : \"SCIENCE\",\n",
    "        \"DATE-OBS\": datetime.utcnow().strftime(\"%Y%m%d %H%M%S.%f\"),\n",
    "        \"OBJECT\": targName,\n",
    "        \"FILTER\": filterName,\n",
    "        \"PROGPI\": progPI,\n",
    "        \"RADEG\": raDeg,\n",
    "        \"DECDEG\": decDeg,\n",
    "        \"OBJRA\": raDeg,\n",
    "        \"OBJDEC\": decDeg,\n",
    "        \"REXPTIME\": exptime,\n",
    "        \"n_imgs_per_dither\": n_imgs_per_dither,\n",
    "        \"DITHNUM\": i,\n",
    "        \"NUMDITHS\": n_dithers,\n",
    "        \"DITHSTEP\": ditherMaxStep_as,\n",
    "    }\n",
    "\n",
    "    # Assume we have already gotten on target, so fist dither just start taking images\n",
    "    if i == 0:\n",
    "        print(\"Starting first dither, no dither offset applied\")\n",
    "\n",
    "    \n",
    "        # take n_imgs_per_dither images\n",
    "        cam.capture_frames(n_imgs_per_dither, stack = False, headers = header, show_progress = False)\n",
    "        \n",
    "    else:\n",
    "        # apply a dither offset\n",
    "\n",
    "        radius = np.random.uniform(ditherMinStep_as, ditherMaxStep_as)\n",
    "        theta = np.random.uniform(0, np.pi)\n",
    "        ra_dither_arcsec = radius * np.cos(theta)\n",
    "        dec_dither_arcsec = radius * np.sin(theta)\n",
    "\n",
    "        msg = f\"Dither (dRA, dDec) = ({ra_dither_arcsec:0.1f}, {dec_dither_arcsec:.1f}) as\"\n",
    "        print(msg)\n",
    "        send(\n",
    "            f\"mount_dither_arcsec_radec {ra_dither_arcsec} {dec_dither_arcsec}\"\n",
    "        )\n",
    "\n",
    "        # give it a little time to settle\n",
    "        settle_time = 10\n",
    "        print(f\"Settling for {settle_time} seconds for mount to settle\")\n",
    "        time.sleep(settle_time)\n",
    "\n",
    "        # take n_imgs_per_dither images\n",
    "        cam.capture_frames(n_imgs_per_dither, stack = False, headers = header, show_progress = False)\n",
    "\n",
    "print(\"Dithered exposure series complete!\")"
   ]
  }
 ],
 "metadata": {
  "kernelspec": {
   "display_name": "Python 3",
   "language": "python",
   "name": "python3"
  },
  "language_info": {
   "codemirror_mode": {
    "name": "ipython",
    "version": 3
   },
   "file_extension": ".py",
   "mimetype": "text/x-python",
   "name": "python",
   "nbconvert_exporter": "python",
   "pygments_lexer": "ipython3",
   "version": "3.9.23"
  }
 },
 "nbformat": 4,
 "nbformat_minor": 5
}
