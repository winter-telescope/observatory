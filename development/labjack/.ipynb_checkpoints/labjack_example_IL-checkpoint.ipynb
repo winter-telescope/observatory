{
 "cells": [
  {
   "cell_type": "code",
   "execution_count": 32,
   "metadata": {},
   "outputs": [],
   "source": [
    "import numpy as np\n",
    "import matplotlib.pyplot as plt\n",
    "from labjack import ljm as lj\n",
    "import time\n",
    "import datetime\n",
    "from IPython.display import clear_output"
   ]
  },
  {
   "cell_type": "code",
   "execution_count": 33,
   "metadata": {},
   "outputs": [],
   "source": [
    "handle = lj.openS(\"T7\", \"ANY\")"
   ]
  },
  {
   "cell_type": "code",
   "execution_count": 21,
   "metadata": {},
   "outputs": [],
   "source": [
    "def setup_channel(channel):\n",
    "    numFrames = 3\n",
    "    names = [\"AIN\"+str(channel)+\"_NEGATIVE_CH\", \"AIN\"+str(channel)+\"_RANGE\", \"AIN\"+str(channel)+\"_RESOLUTION_INDEX\"]\n",
    "    aValues = [199, 10, 0]\n",
    "    lj.eWriteNames(handle, numFrames, names, aValues)\n",
    "    return"
   ]
  },
  {
   "cell_type": "code",
   "execution_count": 22,
   "metadata": {},
   "outputs": [],
   "source": [
    "def read_channel(channel):\n",
    "    value = lj.eReadName(handle,\"AIN\"+str(channel))\n",
    "    return value"
   ]
  },
  {
   "cell_type": "code",
   "execution_count": 23,
   "metadata": {},
   "outputs": [],
   "source": [
    "for i in range(0,4):\n",
    "    setup_channel(i)"
   ]
  },
  {
   "cell_type": "code",
   "execution_count": 24,
   "metadata": {},
   "outputs": [],
   "source": [
    "B = 3375\n",
    "def V_to_R(v):\n",
    "    r = 10000.*(np.abs(v)/(5.-np.abs(v)))\n",
    "    return r\n",
    "def R_to_T(R):\n",
    "    T = (np.log(R/10000)/B+1/298)**-1\n",
    "    T = T-273\n",
    "    return T"
   ]
  },
  {
   "cell_type": "code",
   "execution_count": 15,
   "metadata": {},
   "outputs": [],
   "source": [
    "t0 = []\n",
    "t1 = []\n",
    "t2 = []\n",
    "t3 = []"
   ]
  },
  {
   "cell_type": "code",
   "execution_count": 16,
   "metadata": {},
   "outputs": [],
   "source": [
    "#%matplotlib notebook"
   ]
  },
  {
   "cell_type": "code",
   "execution_count": 38,
   "metadata": {},
   "outputs": [
    {
     "data": {
      "image/png": "[encoded data removed]",
      "text/plain": [
       "<Figure size 432x288 with 1 Axes>"
      ]
     },
     "metadata": {
      "needs_background": "light"
     },
     "output_type": "display_data"
    },
    {
     "ename": "KeyboardInterrupt",
     "evalue": "",
     "output_type": "error",
     "traceback": [
      "\u001b[0;31m---------------------------------------------------------------------------\u001b[0m",
      "\u001b[0;31mKeyboardInterrupt\u001b[0m                         Traceback (most recent call last)",
      "\u001b[0;32m<ipython-input-38-9af8e4ca8a4e>\u001b[0m in \u001b[0;36m<module>\u001b[0;34m\u001b[0m\n\u001b[1;32m     22\u001b[0m     \u001b[0mplt\u001b[0m\u001b[0;34m.\u001b[0m\u001b[0mshow\u001b[0m\u001b[0;34m(\u001b[0m\u001b[0;34m)\u001b[0m\u001b[0;34m\u001b[0m\u001b[0;34m\u001b[0m\u001b[0m\n\u001b[1;32m     23\u001b[0m     \u001b[0mindex\u001b[0m \u001b[0;34m=\u001b[0m \u001b[0mindex\u001b[0m\u001b[0;34m+\u001b[0m\u001b[0;36m1\u001b[0m\u001b[0;34m\u001b[0m\u001b[0;34m\u001b[0m\u001b[0m\n\u001b[0;32m---> 24\u001b[0;31m     \u001b[0mtime\u001b[0m\u001b[0;34m.\u001b[0m\u001b[0msleep\u001b[0m\u001b[0;34m(\u001b[0m\u001b[0;36m10\u001b[0m\u001b[0;34m)\u001b[0m\u001b[0;34m\u001b[0m\u001b[0;34m\u001b[0m\u001b[0m\n\u001b[0m\u001b[1;32m     25\u001b[0m \u001b[0;34m\u001b[0m\u001b[0m\n",
      "\u001b[0;31mKeyboardInterrupt\u001b[0m: "
     ]
    }
   ],
   "source": [
    "index = 0\n",
    "q = datetime.datetime.now()\n",
    "date = str(q.year)+'-'+str(q.month)+'-'+str(q.day)\n",
    "f = open('./templog'+date+'.txt','a')\n",
    "while(True):\n",
    "    clear_output()\n",
    "    arr = np.zeros(4)\n",
    "    for i in range(4):\n",
    "        arr[i] = read_channel(i)\n",
    "        arr[i] = V_to_R(arr[i])\n",
    "        arr[i] = R_to_T(arr[i])\n",
    "    print(index, '%.3f'%arr[0],'%.3f'%arr[1],'%.3f'%arr[2],'%.3f'%arr[3],file=f)\n",
    "    t0.append(arr[0])\n",
    "    t1.append(arr[1])\n",
    "    t2.append(arr[2])\n",
    "    t3.append(arr[3])\n",
    "    plt.clf()\n",
    "    plt.plot(t0)\n",
    "    plt.plot(t1)\n",
    "    plt.plot(t2)\n",
    "    plt.plot(t3)\n",
    "    plt.show()\n",
    "    index = index+1\n",
    "    time.sleep(10)\n",
    "    "
   ]
  },
  {
   "cell_type": "code",
   "execution_count": 39,
   "metadata": {},
   "outputs": [],
   "source": [
    "f.close()"
   ]
  },
  {
   "cell_type": "code",
   "execution_count": null,
   "metadata": {},
   "outputs": [],
   "source": [
    "datetime.date()"
   ]
  },
  {
   "cell_type": "code",
   "execution_count": null,
   "metadata": {},
   "outputs": [],
   "source": [
    "q = datetime.datetime.now()"
   ]
  },
  {
   "cell_type": "code",
   "execution_count": null,
   "metadata": {},
   "outputs": [],
   "source": [
    "date = str(q.year)+'-'+str(q.month)+'-'+str(q.day)"
   ]
  },
  {
   "cell_type": "code",
   "execution_count": null,
   "metadata": {},
   "outputs": [],
   "source": []
  }
 ],
 "metadata": {
  "kernelspec": {
   "display_name": "Python 3 (ipykernel)",
   "language": "python",
   "name": "python3"
  },
  "language_info": {
   "codemirror_mode": {
    "name": "ipython",
    "version": 3
   },
   "file_extension": ".py",
   "mimetype": "text/x-python",
   "name": "python",
   "nbconvert_exporter": "python",
   "pygments_lexer": "ipython3",
   "version": "3.9.11"
  }
 },
 "nbformat": 4,
 "nbformat_minor": 2
}
