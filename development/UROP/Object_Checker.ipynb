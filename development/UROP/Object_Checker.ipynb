{
 "cells": [
  {
   "cell_type": "code",
   "execution_count": 15,
   "id": "da96a5d3",
   "metadata": {},
   "outputs": [
    {
     "name": "stdout",
     "output_type": "stream",
     "text": [
      "mars is the closest planet, which is 83.4569 degrees away\n",
      "moon is 89.8889 degrees away\n"
     ]
    },
    {
     "data": {
      "text/plain": [
       "[356.73, 67.7746]"
      ]
     },
     "execution_count": 15,
     "metadata": {},
     "output_type": "execute_result"
    }
   ],
   "source": [
    "from astropy import units as u\n",
    "from astropy.coordinates import SkyCoord\n",
    "import numpy as np\n",
    "from astropy.coordinates import EarthLocation\n",
    "from astropy.time import Time\n",
    "from astropy.coordinates import AltAz\n",
    "import astropy\n",
    "from astropy.coordinates import Angle\n",
    "\n",
    "def az_el_converter(ra, dec, time):\n",
    "    \n",
    "    object_position = SkyCoord(ra, dec, frame='icrs')\n",
    "\n",
    "    aa = AltAz(location = EarthLocation.of_site('Palomar'), obstime=Time(time))\n",
    "    \n",
    "    az_el_coordinates = object_position.transform_to(aa)\n",
    "    \n",
    "    final_coords = [float(i) for i in az_el_coordinates.to_string().split()]\n",
    "    return(final_coords)\n",
    "def observation_checker(ra, dec, time = Time.now()):\n",
    "    objects_to_check = ['mercury','venus','mars','jupiter','saturn','uranus','neptune']\n",
    "    \n",
    "    aa = AltAz(location = EarthLocation.of_site('Palomar'), obstime=Time(time))\n",
    "    \n",
    "    moon_pos = astropy.coordinates.get_moon(Time(time), location = EarthLocation.of_site('Palomar')).transform_to(aa)\n",
    "    \n",
    "    object_position = SkyCoord(ra, dec, frame='icrs')\n",
    "\n",
    "    aa = AltAz(location = EarthLocation.of_site('Palomar'), obstime=Time(time))\n",
    "    \n",
    "    closest_planet_distance =180\n",
    "    \n",
    "    closest_planet = 0\n",
    "    \n",
    "    az_el_coordinates = object_position.transform_to(aa)\n",
    "    \n",
    "    \n",
    "    if az_el_converter(ra, dec, time)[1] < 15 or abs(90-az_el_converter(ra, dec, time)[1]) < 5:\n",
    "        return(False)\n",
    "    if float(az_el_coordinates.separation(moon_pos).to_string(decimal=True)) < 15:\n",
    "        return(False)\n",
    "    for i in objects_to_check:\n",
    "        if float(az_el_coordinates.separation(astropy.coordinates.get_body(i, time=Time(time), location = EarthLocation.of_site('Palomar')).transform_to(aa)).to_string(decimal=True)) < 1:\n",
    "            return(False)\n",
    "        planet_distance = float(az_el_coordinates.separation(astropy.coordinates.get_body(i, time=Time(time), location = EarthLocation.of_site('Palomar')).transform_to(aa)).to_string(decimal=True))\n",
    "        if planet_distance < closest_planet_distance:\n",
    "            closest_planet_distance = float(az_el_coordinates.separation(astropy.coordinates.get_body(i, time=Time(time), location = EarthLocation.of_site('Palomar')).transform_to(aa)).to_string(decimal=True))\n",
    "            closest_planet = i\n",
    "    print(closest_planet + ' is the closest planet, which is ' + str(closest_planet_distance) + ' degrees away')\n",
    "    print('moon is ' + az_el_coordinates.separation(moon_pos).to_string(decimal=True) + ' degrees away')\n",
    "    return(az_el_converter(ra, dec, time))\n",
    "\n",
    "observation_checker('15h53m51.26s', '+55d35m19.50s')\n",
    "\n"
   ]
  }
 ],
 "metadata": {
  "kernelspec": {
   "display_name": "Python 3",
   "language": "python",
   "name": "python3"
  },
  "language_info": {
   "codemirror_mode": {
    "name": "ipython",
    "version": 3
   },
   "file_extension": ".py",
   "mimetype": "text/x-python",
   "name": "python",
   "nbconvert_exporter": "python",
   "pygments_lexer": "ipython3",
   "version": "3.9.5"
  }
 },
 "nbformat": 4,
 "nbformat_minor": 5
}
