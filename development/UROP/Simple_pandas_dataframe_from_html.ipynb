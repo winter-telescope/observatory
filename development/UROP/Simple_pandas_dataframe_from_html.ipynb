{
 "cells": [
  {
   "cell_type": "code",
   "execution_count": 53,
   "id": "69ffba9c",
   "metadata": {},
   "outputs": [
    {
     "name": "stdout",
     "output_type": "stream",
     "text": [
      "               R.A.         Decl.  R.A.(dec)  Decl(dec)  Discovery date  \\\n",
      "0      00:00:10.348  +38:24:19.46   0.002874  38.405407  2021/06/19.561   \n",
      "1      00:00:30.865  +30:38:40.36   0.008574  30.644545  2021/01/06.117   \n",
      "2      00:00:45.067  +04:24:16.38   0.012519   4.404550  2021/06/15.594   \n",
      "3      00:01:04.606  +08:16:38.53   0.017946   8.277369  2021/05/19.573   \n",
      "4      00:01:37.453  +23:22:17.16   0.027070  23.371433  2021/05/05.493   \n",
      "...             ...           ...        ...        ...             ...   \n",
      "10866  23:58:50.745  +53:31:04.16  23.980763  53.517822  2021/01/02.142   \n",
      "10867  23:59:30.582  -10:46:24.28  23.991829 -10.773411  2021/01/08.226   \n",
      "10868  23:59:38.975  -48:48:02.88  23.994160 -48.800800  2021/03/08.942   \n",
      "10869  23:59:44.167  +01:38:20.15  23.995602   1.638931  2021/06/17.436   \n",
      "10870  23:59:58.840  +17:23:12.83  23.999678  17.386898  2021/01/06.220   \n",
      "\n",
      "                            Host offset Type   Mag       Name  \\\n",
      "0                   LEDA 2126041    0.0   Ia  18.8    2021qoo   \n",
      "1       SDSS J000031.02+303838.4    0.0  unk  20.7   AT2021xh   \n",
      "2       SDSS J000044.93+042416.8    0.0  unk  18.8  AT2021qdz   \n",
      "3                   LEDA 1343445    0.0  unk  18.8  AT2021mur   \n",
      "4       SDSS J000137.30+232218.4    0.0  unk  19.7  AT2021mbb   \n",
      "...                          ...    ...  ...   ...        ...   \n",
      "10866  WISEA J235850.89+533105.5    0.0  unk  20.1   AT2021eg   \n",
      "10867                  Anonymous    0.0  unk  21.2  AT2021dxy   \n",
      "10868    6dFGS gJ235939.0-484804    0.0  unk  17.9  AT2021ffb   \n",
      "10869             LBQS 2357+0121    0.0  unk  20.3  AT2021qtf   \n",
      "10870                  Anonymous    0.0  unk  20.2  AT2021hhf   \n",
      "\n",
      "             Alternate names  \n",
      "0                 ATLAS21xcd  \n",
      "1               ZTF21aacvfed  \n",
      "2      ATLAS21wvs, Gaia21cwt  \n",
      "3      ATLAS21pjb, Gaia21cwk  \n",
      "4               ZTF21abawyto  \n",
      "...                      ...  \n",
      "10866           ZTF21aaarbla  \n",
      "10867                PS21alr  \n",
      "10868              Gaia21bgt  \n",
      "10869           ZTF21abhrqfc  \n",
      "10870                PS21cpa  \n",
      "\n",
      "[10871 rows x 11 columns]\n"
     ]
    }
   ],
   "source": [
    "import requests\n",
    "from lxml import etree\n",
    "import urllib.request\n",
    "import pandas as pd\n",
    "\n",
    "URL = 'https://www.rochesterastronomy.org/sn2021/snlocations.html'\n",
    "\n",
    "\n",
    "import pandas as pd\n",
    "\n",
    "html = requests.get(URL).content\n",
    "df_list = pd.read_html(html)\n",
    "df = df_list[-1]\n",
    "print(df)\n",
    "\n",
    "\n"
   ]
  },
  {
   "cell_type": "code",
   "execution_count": null,
   "id": "a470d148",
   "metadata": {},
   "outputs": [],
   "source": []
  }
 ],
 "metadata": {
  "kernelspec": {
   "display_name": "Python 3",
   "language": "python",
   "name": "python3"
  },
  "language_info": {
   "codemirror_mode": {
    "name": "ipython",
    "version": 3
   },
   "file_extension": ".py",
   "mimetype": "text/x-python",
   "name": "python",
   "nbconvert_exporter": "python",
   "pygments_lexer": "ipython3",
   "version": "3.9.5"
  }
 },
 "nbformat": 4,
 "nbformat_minor": 5
}
