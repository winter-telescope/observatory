{
 "cells": [
  {
   "cell_type": "markdown",
   "id": "66a05be3",
   "metadata": {},
   "source": [
    "Sandbox for communicating with the synlink API"
   ]
  },
  {
   "cell_type": "code",
   "execution_count": null,
   "id": "3e2413cd",
   "metadata": {},
   "outputs": [
    {
     "name": "stdout",
     "output_type": "stream",
     "text": [
      "WSP_PATH: /Users/nlourie/Desktop/Work/MIT/WINTER/GIT/observatory/wsp\n",
      "1-2010157 example name ON\n",
      "2-2010157 Outlet 2 OFF\n",
      "3-2010157 Outlet 3 ON\n",
      "4-2010157 Outlet 4 ON\n",
      "5-2010157 Outlet 5 ON\n",
      "6-2010157 Outlet 6 ON\n",
      "7-2010157 Outlet 7 ON\n",
      "8-2010157 Outlet 8 ON\n"
     ]
    }
   ],
   "source": [
    "import os\n",
    "from synlinkpy import SynLinkPy\n",
    "\n",
    "from wsp.utils import utils\n",
    "from wsp.utils.paths import WSP_PATH\n",
    "\n",
    "print(f\"WSP_PATH: {WSP_PATH}\")\n",
    "\n",
    "# Load credentials from the authentication file\n",
    "authconfig = utils.loadconfig(os.path.join(WSP_PATH, \"credentials\", \"authentication.yaml\"))\n",
    "\n",
    "# Load the pdu configuration\n",
    "pdu_config = utils.loadconfig(os.path.join(WSP_PATH, \"config\", \"powerconfig.yaml\"))\n",
    "\n",
    "\n",
    "\n",
    "pdu1 = SynLinkPy(\"http://192.168.1.100\", { \"username\": authconfig[\"pdu\"][\"pdu1\"][\"USERNAME\"], \n",
    "                        \"password\": authconfig[\"pdu\"][\"pdu1\"][\"PASSWORD\"] })\n",
    "\n",
    "# Change outlet state for a given PDU (Power Distribution Unit)\n",
    "pdu1.outlets.set_state(\"1\", \"OFF\") # accepts outlet number\n",
    "pdu1.outlets.set_state(\"1-1200578\", \"ON\") # accepts unique outlet ID\n",
    "pdu1.outlets.set_state(\"2\", \"REBOOT\") # acceptable states are \"OFF\", \"ON\", \"REBOOT\"\n",
    "\n",
    "# Go through all outlets and set their names based on the pdu config\n",
    "for outlet_id, outlet_name in pdu_config[\"pdus\"][\"pdu1\"][\"outlets\"].items():\n",
    "    pdu1.outlets.change_config(outlet_id, { \"outletName\": outlet_name })\n",
    "\n",
    "# Get information of all outlets\n",
    "outlet_response = pdu1.outlets.list()\n",
    "\n",
    "for outlet in outlet_response:\n",
    "    print(outlet['id'], outlet['outletName'], outlet['state'])\n"
   ]
  }
 ],
 "metadata": {
  "kernelspec": {
   "display_name": "Python 3",
   "language": "python",
   "name": "python3"
  },
  "language_info": {
   "codemirror_mode": {
    "name": "ipython",
    "version": 3
   },
   "file_extension": ".py",
   "mimetype": "text/x-python",
   "name": "python",
   "nbconvert_exporter": "python",
   "pygments_lexer": "ipython3",
   "version": "3.9.23"
  }
 },
 "nbformat": 4,
 "nbformat_minor": 5
}
