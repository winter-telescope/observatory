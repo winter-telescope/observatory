{
 "cells": [
  {
   "cell_type": "code",
   "execution_count": 1,
   "id": "c5d2e110",
   "metadata": {},
   "outputs": [
    {
     "name": "stdout",
     "output_type": "stream",
     "text": [
      "telescope: wsp_path = C:\\Users\\oir-user\\Desktop\\GIT\\observatory\\wsp\n"
     ]
    }
   ],
   "source": [
    "from wsp.camera.camera import BaseCamera\n",
    "from wsp.utils.paths import WSP_PATH, CONFIG_PATH\n",
    "from wsp.utils.utils import loadconfig\n",
    "import time\n",
    "import json\n",
    "\n",
    "from wsp.camera.implementations.spring_camera import SpringCamera\n",
    "\n",
    "config = loadconfig(CONFIG_PATH)\n",
    "\n",
    "cam = SpringCamera(\n",
    "    base_directory=WSP_PATH,\n",
    "    config=config,\n",
    "    camname=\"spring\",\n",
    "    daemon_pyro_name=\"SpringCamera\",\n",
    "    logger=None,\n",
    "    verbose=False,\n",
    ")"
   ]
  },
  {
   "cell_type": "code",
   "execution_count": 2,
   "id": "8507fa54",
   "metadata": {},
   "outputs": [
    {
     "name": "stdout",
     "output_type": "stream",
     "text": [
      "{\n",
      "  \"timestamp\": 1760054516.301638,\n",
      "  \"camname\": \"spring\",\n",
      "  \"is_connected\": true,\n",
      "  \"camera_state\": \"OFF\",\n",
      "  \"imdir\": \"\",\n",
      "  \"imname\": \"\",\n",
      "  \"imstarttime\": \"\",\n",
      "  \"imtype\": null,\n",
      "  \"immode\": null,\n",
      "  \"tec_temp\": 0,\n",
      "  \"tec_enabled\": 0,\n",
      "  \"tec_setpoint\": 0.0,\n",
      "  \"tec_voltage\": 0.0,\n",
      "  \"tec_current\": 0.0,\n",
      "  \"tec_percentage\": 0.0,\n",
      "  \"exptime\": 0.0\n",
      "}\n",
      "Camera state: OFF\n"
     ]
    }
   ],
   "source": [
    "cam.print_state()\n",
    "\n",
    "state = cam.state\n",
    "print(\"Camera state:\", state[\"camera_state\"])"
   ]
  },
  {
   "cell_type": "code",
   "execution_count": 3,
   "id": "5ee32f5a",
   "metadata": {},
   "outputs": [
    {
     "name": "stdout",
     "output_type": "stream",
     "text": [
      "spring local interface: State changed: 2025-10-09 20:02:55.678860: OFF -> STARTUP_REQUESTED\n"
     ]
    }
   ],
   "source": [
    "cam.startupCamera()"
   ]
  },
  {
   "cell_type": "code",
   "execution_count": 5,
   "id": "9b2078af",
   "metadata": {},
   "outputs": [
    {
     "name": "stdout",
     "output_type": "stream",
     "text": [
      "spring local interface: State changed: 2025-10-09 20:04:09.049366: READY -> SETTING_PARAMETERS\n",
      "spring local interface: State changed: 2025-10-09 20:04:09.050726: SETTING_PARAMETERS -> READY\n"
     ]
    }
   ],
   "source": [
    "cam.setExposure(2)"
   ]
  }
 ],
 "metadata": {
  "kernelspec": {
   "display_name": "Python 3",
   "language": "python",
   "name": "python3"
  },
  "language_info": {
   "codemirror_mode": {
    "name": "ipython",
    "version": 3
   },
   "file_extension": ".py",
   "mimetype": "text/x-python",
   "name": "python",
   "nbconvert_exporter": "python",
   "pygments_lexer": "ipython3",
   "version": "3.9.23"
  }
 },
 "nbformat": 4,
 "nbformat_minor": 5
}
