{
 "cells": [
  {
   "cell_type": "code",
   "execution_count": 6,
   "id": "c5d2e110",
   "metadata": {},
   "outputs": [
    {
     "name": "stdout",
     "output_type": "stream",
     "text": [
      "spring local interface: init_remote_object: trying to connect to SpringCamera\n",
      "spring local interface: camera: could not update/parse remote state: cannot connect to ('::1', 58759): [WinError 10061] No connection could be made because the target machine actively refused it\n",
      "spring local interface: State changed: 2025-10-13 19:55:47.629311: OFF -> ERROR\n"
     ]
    }
   ],
   "source": [
    "from wsp.utils.paths import WSP_PATH, CONFIG_PATH\n",
    "from wsp.utils.utils import loadconfig\n",
    "\n",
    "from wsp.camera.implementations.spring_camera import SpringCamera\n",
    "\n",
    "config = loadconfig(CONFIG_PATH)\n",
    "\n",
    "cam = SpringCamera(\n",
    "    base_directory=WSP_PATH,\n",
    "    config=config,\n",
    "    camname=\"spring\",\n",
    "    daemon_pyro_name=\"SpringCamera\",\n",
    "    logger=None,\n",
    "    verbose=True,\n",
    ")"
   ]
  },
  {
   "cell_type": "code",
   "execution_count": null,
   "id": "12d2aed0",
   "metadata": {},
   "outputs": [],
   "source": [
    "cam.startupCamera()"
   ]
  },
  {
   "cell_type": "code",
   "execution_count": null,
   "id": "467725f3",
   "metadata": {},
   "outputs": [],
   "source": [
    "imdir = \"~/data/images/20251013/spring\"\n",
    "imname = \"test_spring_001\"\n",
    "\n",
    "cam.doExposure(imdir =imdir, imname = imname)"
   ]
  },
  {
   "cell_type": "code",
   "execution_count": 2,
   "id": "8507fa54",
   "metadata": {},
   "outputs": [
    {
     "name": "stdout",
     "output_type": "stream",
     "text": [
      "Remote camera state: OFF\n",
      "{\n",
      "  \"timestamp\": 1760399141.955231,\n",
      "  \"camname\": \"spring\",\n",
      "  \"is_connected\": true,\n",
      "  \"camera_state\": \"OFF\",\n",
      "  \"imdir\": \"\",\n",
      "  \"imname\": \"\",\n",
      "  \"imstarttime\": \"\",\n",
      "  \"imtype\": null,\n",
      "  \"immode\": null,\n",
      "  \"tec_temp\": -59.97,\n",
      "  \"tec_enabled\": 1,\n",
      "  \"tec_setpoint\": -60.0,\n",
      "  \"tec_voltage\": 5.267565,\n",
      "  \"tec_current\": 3.576741666666667,\n",
      "  \"tec_percentage\": 58.52850000000001,\n",
      "  \"tec_steady\": 1,\n",
      "  \"exptime\": 30.0,\n",
      "  \"connected\": true,\n",
      "  \"command_running\": false,\n",
      "  \"current_command\": null,\n",
      "  \"case_temp\": 14.57,\n",
      "  \"digpcb_temp\": 34.0,\n",
      "  \"senspcb_temp\": 13.12,\n",
      "  \"gain_corr\": 0,\n",
      "  \"offset_corr\": 0,\n",
      "  \"sub_corr\": 0,\n",
      "  \"gui_state\": \"READY\",\n",
      "  \"command_elapsed_dt\": 0,\n",
      "  \"pending_completion\": false\n",
      "}\n"
     ]
    }
   ],
   "source": [
    "cam.print_state()\n",
    "\n"
   ]
  },
  {
   "cell_type": "code",
   "execution_count": 3,
   "id": "0f70a1b6",
   "metadata": {},
   "outputs": [
    {
     "data": {
      "text/plain": [
       "{'camera_state': 'OFF',\n",
       " 'connected': True,\n",
       " 'timestamp': 1760399148.212788,\n",
       " 'command_running': False,\n",
       " 'current_command': None,\n",
       " 'case_temp': 14.57,\n",
       " 'digpcb_temp': 34.0,\n",
       " 'senspcb_temp': 13.12,\n",
       " 'gain_corr': 0,\n",
       " 'offset_corr': 0,\n",
       " 'sub_corr': 0,\n",
       " 'gui_state': 'READY',\n",
       " 'exptime': 30.0,\n",
       " 'tec_temp': -60.01,\n",
       " 'tec_enabled': 1,\n",
       " 'tec_setpoint': -60.0,\n",
       " 'tec_voltage': 5.308053,\n",
       " 'tec_current': 3.6042335185185186,\n",
       " 'tec_percentage': 58.97836666666667,\n",
       " 'tec_steady': 1,\n",
       " 'command_elapsed_dt': 0,\n",
       " 'pending_completion': False}"
      ]
     },
     "execution_count": 3,
     "metadata": {},
     "output_type": "execute_result"
    }
   ],
   "source": [
    "cam.remote_object.getStatus()"
   ]
  },
  {
   "cell_type": "code",
   "execution_count": 7,
   "id": "5ee32f5a",
   "metadata": {},
   "outputs": [
    {
     "name": "stdout",
     "output_type": "stream",
     "text": [
      "spring local interface: State changed: 2025-10-13 19:55:53.910579: ERROR -> STARTUP_REQUESTED\n",
      "spring local interface: State changed: 2025-10-13 19:55:55.952413: STARTUP_REQUESTED -> ERROR\n",
      "Error starting camera: cannot connect to ('::1', 58759): [WinError 10061] No connection could be made because the target machine actively refused it\n"
     ]
    },
    {
     "ename": "CommunicationError",
     "evalue": "cannot connect to ('::1', 58759): [WinError 10061] No connection could be made because the target machine actively refused it",
     "output_type": "error",
     "traceback": [
      "\u001b[1;31m---------------------------------------------------------------------------\u001b[0m",
      "\u001b[1;31mConnectionRefusedError\u001b[0m                    Traceback (most recent call last)",
      "File \u001b[1;32mc:\\Users\\oir-user\\Desktop\\GIT\\observatory\\.conda\\lib\\site-packages\\Pyro5\\client.py:278\u001b[0m, in \u001b[0;36mProxy.__pyroCreateConnection.<locals>.connect_and_handshake\u001b[1;34m(conn)\u001b[0m\n\u001b[0;32m    277\u001b[0m     sslContext \u001b[38;5;241m=\u001b[39m \u001b[38;5;28;01mNone\u001b[39;00m\n\u001b[1;32m--> 278\u001b[0m sock \u001b[38;5;241m=\u001b[39m \u001b[43msocketutil\u001b[49m\u001b[38;5;241;43m.\u001b[39;49m\u001b[43mcreate_socket\u001b[49m\u001b[43m(\u001b[49m\u001b[43mconnect\u001b[49m\u001b[38;5;241;43m=\u001b[39;49m\u001b[43mconnect_location\u001b[49m\u001b[43m,\u001b[49m\n\u001b[0;32m    279\u001b[0m \u001b[43m                                \u001b[49m\u001b[43mreuseaddr\u001b[49m\u001b[38;5;241;43m=\u001b[39;49m\u001b[43mconfig\u001b[49m\u001b[38;5;241;43m.\u001b[39;49m\u001b[43mSOCK_REUSE\u001b[49m\u001b[43m,\u001b[49m\n\u001b[0;32m    280\u001b[0m \u001b[43m                                \u001b[49m\u001b[43mtimeout\u001b[49m\u001b[38;5;241;43m=\u001b[39;49m\u001b[38;5;28;43mself\u001b[39;49m\u001b[38;5;241;43m.\u001b[39;49m\u001b[43m__pyroTimeout\u001b[49m\u001b[43m,\u001b[49m\n\u001b[0;32m    281\u001b[0m \u001b[43m                                \u001b[49m\u001b[43mnodelay\u001b[49m\u001b[38;5;241;43m=\u001b[39;49m\u001b[43mconfig\u001b[49m\u001b[38;5;241;43m.\u001b[39;49m\u001b[43mSOCK_NODELAY\u001b[49m\u001b[43m,\u001b[49m\n\u001b[0;32m    282\u001b[0m \u001b[43m                                \u001b[49m\u001b[43msslContext\u001b[49m\u001b[38;5;241;43m=\u001b[39;49m\u001b[43msslContext\u001b[49m\u001b[43m)\u001b[49m\n\u001b[0;32m    283\u001b[0m conn \u001b[38;5;241m=\u001b[39m socketutil\u001b[38;5;241m.\u001b[39mSocketConnection(sock, uri\u001b[38;5;241m.\u001b[39mobject)\n",
      "File \u001b[1;32mc:\\Users\\oir-user\\Desktop\\GIT\\observatory\\.conda\\lib\\site-packages\\Pyro5\\socketutil.py:283\u001b[0m, in \u001b[0;36mcreate_socket\u001b[1;34m(bind, connect, reuseaddr, keepalive, timeout, noinherit, ipv6, nodelay, sslContext)\u001b[0m\n\u001b[0;32m    282\u001b[0m \u001b[38;5;28;01mtry\u001b[39;00m:\n\u001b[1;32m--> 283\u001b[0m     \u001b[43msock\u001b[49m\u001b[38;5;241;43m.\u001b[39;49m\u001b[43mconnect\u001b[49m\u001b[43m(\u001b[49m\u001b[43mconnect\u001b[49m\u001b[43m)\u001b[49m\n\u001b[0;32m    284\u001b[0m \u001b[38;5;28;01mexcept\u001b[39;00m socket\u001b[38;5;241m.\u001b[39merror \u001b[38;5;28;01mas\u001b[39;00m xv:\n\u001b[0;32m    285\u001b[0m     \u001b[38;5;66;03m# This can happen when the socket is in non-blocking mode (or has a timeout configured).\u001b[39;00m\n\u001b[0;32m    286\u001b[0m     \u001b[38;5;66;03m# We check if it is a retryable errno (usually EINPROGRESS).\u001b[39;00m\n\u001b[0;32m    287\u001b[0m     \u001b[38;5;66;03m# If so, we use select() to wait until the socket is in writable state,\u001b[39;00m\n\u001b[0;32m    288\u001b[0m     \u001b[38;5;66;03m# essentially rebuilding a blocking connect() call.\u001b[39;00m\n",
      "\u001b[1;31mConnectionRefusedError\u001b[0m: [WinError 10061] No connection could be made because the target machine actively refused it",
      "\nThe above exception was the direct cause of the following exception:\n",
      "\u001b[1;31mCommunicationError\u001b[0m                        Traceback (most recent call last)",
      "Cell \u001b[1;32mIn[7], line 1\u001b[0m\n\u001b[1;32m----> 1\u001b[0m \u001b[43mcam\u001b[49m\u001b[38;5;241;43m.\u001b[39;49m\u001b[43mstartupCamera\u001b[49m\u001b[43m(\u001b[49m\u001b[43m)\u001b[49m\n",
      "File \u001b[1;32m~\\Desktop\\GIT\\observatory\\wsp\\camera\\camera.py:520\u001b[0m, in \u001b[0;36mBaseCamera.startupCamera\u001b[1;34m(self, **kwargs)\u001b[0m\n\u001b[0;32m    518\u001b[0m \u001b[38;5;28;01mtry\u001b[39;00m:\n\u001b[0;32m    519\u001b[0m     \u001b[38;5;28mself\u001b[39m\u001b[38;5;241m.\u001b[39mcamera_state \u001b[38;5;241m=\u001b[39m CameraState\u001b[38;5;241m.\u001b[39mSTARTUP_REQUESTED\n\u001b[1;32m--> 520\u001b[0m     \u001b[38;5;28;43mself\u001b[39;49m\u001b[38;5;241;43m.\u001b[39;49m\u001b[43mremote_object\u001b[49m\u001b[38;5;241;43m.\u001b[39;49m\u001b[43mstartupCamera\u001b[49m(\u001b[38;5;241m*\u001b[39m\u001b[38;5;241m*\u001b[39mkwargs)\n\u001b[0;32m    521\u001b[0m \u001b[38;5;28;01mexcept\u001b[39;00m \u001b[38;5;167;01mException\u001b[39;00m \u001b[38;5;28;01mas\u001b[39;00m e:\n\u001b[0;32m    522\u001b[0m     \u001b[38;5;28mself\u001b[39m\u001b[38;5;241m.\u001b[39mactive_operation_time \u001b[38;5;241m=\u001b[39m \u001b[38;5;28;01mNone\u001b[39;00m\n",
      "File \u001b[1;32mc:\\Users\\oir-user\\Desktop\\GIT\\observatory\\.conda\\lib\\site-packages\\Pyro5\\client.py:92\u001b[0m, in \u001b[0;36mProxy.__getattr__\u001b[1;34m(self, name)\u001b[0m\n\u001b[0;32m     90\u001b[0m \u001b[38;5;66;03m# get metadata if it's not there yet\u001b[39;00m\n\u001b[0;32m     91\u001b[0m \u001b[38;5;28;01mif\u001b[39;00m \u001b[38;5;129;01mnot\u001b[39;00m \u001b[38;5;28mself\u001b[39m\u001b[38;5;241m.\u001b[39m_pyroMethods \u001b[38;5;129;01mand\u001b[39;00m \u001b[38;5;129;01mnot\u001b[39;00m \u001b[38;5;28mself\u001b[39m\u001b[38;5;241m.\u001b[39m_pyroAttrs:\n\u001b[1;32m---> 92\u001b[0m     \u001b[38;5;28;43mself\u001b[39;49m\u001b[38;5;241;43m.\u001b[39;49m\u001b[43m_pyroGetMetadata\u001b[49m\u001b[43m(\u001b[49m\u001b[43m)\u001b[49m\n\u001b[0;32m     93\u001b[0m \u001b[38;5;28;01mif\u001b[39;00m name \u001b[38;5;129;01min\u001b[39;00m \u001b[38;5;28mself\u001b[39m\u001b[38;5;241m.\u001b[39m_pyroAttrs:\n\u001b[0;32m     94\u001b[0m     \u001b[38;5;28;01mreturn\u001b[39;00m \u001b[38;5;28mself\u001b[39m\u001b[38;5;241m.\u001b[39m_pyroInvoke(\u001b[38;5;124m\"\u001b[39m\u001b[38;5;124m__getattr__\u001b[39m\u001b[38;5;124m\"\u001b[39m, (name,), \u001b[38;5;28;01mNone\u001b[39;00m)\n",
      "File \u001b[1;32mc:\\Users\\oir-user\\Desktop\\GIT\\observatory\\.conda\\lib\\site-packages\\Pyro5\\client.py:358\u001b[0m, in \u001b[0;36mProxy._pyroGetMetadata\u001b[1;34m(self, objectId, known_metadata)\u001b[0m\n\u001b[0;32m    356\u001b[0m \u001b[38;5;28;01mif\u001b[39;00m \u001b[38;5;28mself\u001b[39m\u001b[38;5;241m.\u001b[39m_pyroConnection \u001b[38;5;129;01mis\u001b[39;00m \u001b[38;5;28;01mNone\u001b[39;00m \u001b[38;5;129;01mand\u001b[39;00m \u001b[38;5;129;01mnot\u001b[39;00m known_metadata:\n\u001b[0;32m    357\u001b[0m     \u001b[38;5;28;01mtry\u001b[39;00m:\n\u001b[1;32m--> 358\u001b[0m         \u001b[38;5;28;43mself\u001b[39;49m\u001b[38;5;241;43m.\u001b[39;49m\u001b[43m__pyroCreateConnection\u001b[49m\u001b[43m(\u001b[49m\u001b[43m)\u001b[49m\n\u001b[0;32m    359\u001b[0m     \u001b[38;5;28;01mexcept\u001b[39;00m errors\u001b[38;5;241m.\u001b[39mPyroError:\n\u001b[0;32m    360\u001b[0m         log\u001b[38;5;241m.\u001b[39merror(\u001b[38;5;124m\"\u001b[39m\u001b[38;5;124mproblem getting metadata: cannot connect\u001b[39m\u001b[38;5;124m\"\u001b[39m)\n",
      "File \u001b[1;32mc:\\Users\\oir-user\\Desktop\\GIT\\observatory\\.conda\\lib\\site-packages\\Pyro5\\client.py:342\u001b[0m, in \u001b[0;36mProxy.__pyroCreateConnection\u001b[1;34m(self, replaceUri, connected_socket)\u001b[0m\n\u001b[0;32m    340\u001b[0m     \u001b[38;5;28mself\u001b[39m\u001b[38;5;241m.\u001b[39m_pyroConnection \u001b[38;5;241m=\u001b[39m socketutil\u001b[38;5;241m.\u001b[39mSocketConnection(connected_socket, uri\u001b[38;5;241m.\u001b[39mobject, \u001b[38;5;28;01mTrue\u001b[39;00m)\n\u001b[0;32m    341\u001b[0m \u001b[38;5;28;01melse\u001b[39;00m:\n\u001b[1;32m--> 342\u001b[0m     \u001b[43mconnect_and_handshake\u001b[49m\u001b[43m(\u001b[49m\u001b[43mconn\u001b[49m\u001b[43m)\u001b[49m\n\u001b[0;32m    343\u001b[0m \u001b[38;5;66;03m# obtain metadata if this feature is enabled, and the metadata is not known yet\u001b[39;00m\n\u001b[0;32m    344\u001b[0m \u001b[38;5;28;01mif\u001b[39;00m \u001b[38;5;129;01mnot\u001b[39;00m \u001b[38;5;28mself\u001b[39m\u001b[38;5;241m.\u001b[39m_pyroMethods \u001b[38;5;129;01mand\u001b[39;00m \u001b[38;5;129;01mnot\u001b[39;00m \u001b[38;5;28mself\u001b[39m\u001b[38;5;241m.\u001b[39m_pyroAttrs:\n",
      "File \u001b[1;32mc:\\Users\\oir-user\\Desktop\\GIT\\observatory\\.conda\\lib\\site-packages\\Pyro5\\client.py:304\u001b[0m, in \u001b[0;36mProxy.__pyroCreateConnection.<locals>.connect_and_handshake\u001b[1;34m(conn)\u001b[0m\n\u001b[0;32m    302\u001b[0m         \u001b[38;5;28;01mraise\u001b[39;00m\n\u001b[0;32m    303\u001b[0m     \u001b[38;5;28;01melse\u001b[39;00m:\n\u001b[1;32m--> 304\u001b[0m         \u001b[38;5;28;01mraise\u001b[39;00m errors\u001b[38;5;241m.\u001b[39mCommunicationError(err) \u001b[38;5;28;01mfrom\u001b[39;00m\u001b[38;5;250m \u001b[39m\u001b[38;5;21;01mx\u001b[39;00m\n\u001b[0;32m    305\u001b[0m \u001b[38;5;28;01melse\u001b[39;00m:\n\u001b[0;32m    306\u001b[0m     handshake_response \u001b[38;5;241m=\u001b[39m \u001b[38;5;124m\"\u001b[39m\u001b[38;5;124m?\u001b[39m\u001b[38;5;124m\"\u001b[39m\n",
      "\u001b[1;31mCommunicationError\u001b[0m: cannot connect to ('::1', 58759): [WinError 10061] No connection could be made because the target machine actively refused it"
     ]
    }
   ],
   "source": [
    "cam.startupCamera()"
   ]
  },
  {
   "cell_type": "code",
   "execution_count": 5,
   "id": "3cfc12a9",
   "metadata": {},
   "outputs": [
    {
     "name": "stdout",
     "output_type": "stream",
     "text": [
      "Remote camera state: READY\n",
      "spring local interface: State changed: 2025-10-13 18:37:21.808661: STARTUP_REQUESTED -> READY\n",
      "{\n",
      "  \"timestamp\": 1760395041.80966,\n",
      "  \"camname\": \"spring\",\n",
      "  \"is_connected\": true,\n",
      "  \"camera_state\": \"READY\",\n",
      "  \"imdir\": \"\",\n",
      "  \"imname\": \"\",\n",
      "  \"imstarttime\": \"\",\n",
      "  \"imtype\": null,\n",
      "  \"immode\": null,\n",
      "  \"tec_temp\": -59.98,\n",
      "  \"tec_enabled\": 1,\n",
      "  \"tec_setpoint\": -60.0,\n",
      "  \"tec_voltage\": 5.325099,\n",
      "  \"tec_current\": 3.615807962962963,\n",
      "  \"tec_percentage\": 59.167766666666665,\n",
      "  \"tec_steady\": 1,\n",
      "  \"exptime\": 30.0,\n",
      "  \"connected\": true,\n",
      "  \"command_running\": false,\n",
      "  \"current_command\": null,\n",
      "  \"case_temp\": 14.76,\n",
      "  \"digpcb_temp\": 34.5,\n",
      "  \"senspcb_temp\": 13.5,\n",
      "  \"gain_corr\": 0,\n",
      "  \"offset_corr\": 0,\n",
      "  \"sub_corr\": 0,\n",
      "  \"gui_state\": \"READY\",\n",
      "  \"command_elapsed_dt\": 0,\n",
      "  \"pending_completion\": false,\n",
      "  \"command_active\": 0,\n",
      "  \"command_sent_timestamp\": 1760395035.148397,\n",
      "  \"command_pass\": 1,\n",
      "  \"last_command\": \"autoStartup\",\n",
      "  \"last_command_success\": true\n",
      "}\n"
     ]
    }
   ],
   "source": [
    "cam.print_state()"
   ]
  },
  {
   "cell_type": "code",
   "execution_count": 7,
   "id": "9b2078af",
   "metadata": {},
   "outputs": [
    {
     "name": "stdout",
     "output_type": "stream",
     "text": [
      "spring local interface: State changed: 2025-10-13 14:42:29.160087: READY -> SETTING_PARAMETERS\n",
      "spring local interface: State changed: 2025-10-13 14:42:29.161827: SETTING_PARAMETERS -> READY\n"
     ]
    }
   ],
   "source": [
    "cam.setExposure(10)"
   ]
  },
  {
   "cell_type": "code",
   "execution_count": 9,
   "id": "c87545f4",
   "metadata": {},
   "outputs": [
    {
     "name": "stdout",
     "output_type": "stream",
     "text": [
      "Remote camera state: READY\n",
      "{\n",
      "  \"timestamp\": 1760380953.711713,\n",
      "  \"camname\": \"spring\",\n",
      "  \"is_connected\": true,\n",
      "  \"camera_state\": \"READY\",\n",
      "  \"imdir\": \"\",\n",
      "  \"imname\": \"\",\n",
      "  \"imstarttime\": \"\",\n",
      "  \"imtype\": null,\n",
      "  \"immode\": null,\n",
      "  \"tec_temp\": -59.99,\n",
      "  \"tec_enabled\": 1,\n",
      "  \"tec_setpoint\": -60.0,\n",
      "  \"tec_voltage\": 5.227078,\n",
      "  \"tec_current\": 3.5492504938271603,\n",
      "  \"tec_percentage\": 58.078644444444436,\n",
      "  \"tec_steady\": 1,\n",
      "  \"exptime\": 10.0\n",
      "}\n"
     ]
    }
   ],
   "source": [
    "cam.print_state()"
   ]
  },
  {
   "cell_type": "code",
   "execution_count": null,
   "id": "e6db7544",
   "metadata": {},
   "outputs": [
    {
     "name": "stdout",
     "output_type": "stream",
     "text": [
      "spring local interface: running doExposure\n",
      "spring local interface: State changed: 2025-10-13 19:46:03.220157: STARTUP_REQUESTED -> EXPOSING\n",
      "spring local interface: updating state dictionaries\n",
      "Remote camera state: READY\n",
      "spring local interface: State changed: 2025-10-13 19:46:08.156957: EXPOSING -> READY\n",
      "spring local interface: making FITS header\n",
      "spring local interface: header: [('OBSTYPE', 'test', 'Observation Type'), ('OBSMODE', '', 'Observation mode (eg manual/calibration/schedule'), ('FILENAME', 'test_spring_001', 'File name'), ('ORIGNAME', 'test_spring_001', 'Original filename'), ('READOUTM', 'single', 'Image readout mode (eg cds, iwr)'), ('OBSERVAT', 'Palomar Observatory', 'Observatory'), ('TELESCOP', 'WINTER / P39', 'Observatory telescope'), ('OBSLAT', '', 'Observatory latitude (deg)'), ('OBSLON', '', 'Observatory longitude (deg)'), ('OBSALT', '', 'Observatory altitude (m)'), ('TELLAT', '', 'Telescope latitude (deg)'), ('TELLON', '', 'Telescope longitude (deg)'), ('TELALT', '', 'Telescope altitude (m)'), ('MIRCOVER', '', 'Mirror cover status'), ('RA', '0:00:00', 'Requested right ascension (deg:m:s)'), ('RADEG', 0.0, 'Requested right ascension (deg)'), ('DEC', '0:00:00', 'Requested declination (deg:m:s)'), ('DECDEG', 0.0, 'Requested declination (deg)'), ('TELRA', '0:00:00', 'Telescope right ascension (deg:m:s)'), ('TELDEC', '0:00:00', 'Telescope declination (deg:m:s)'), ('AZIMUTH', '', 'Telescope azimuth (deg)'), ('ALTITUDE', '', 'Telescope altitude (deg)'), ('ELVATION', '', 'Telescope elevation (deg)'), ('AIRMASS', 1.633123935319537e+16, 'Airmass'), ('DOME_AZ', '', 'Dome azimuth (deg)'), ('FOCPOS', '', 'Focuser position (micron)'), ('ROTMECH', '', 'Rotator mechanical angle (deg)'), ('ROTFIELD', '', 'Rotator field angle (deg)'), ('OBHISTID', '', 'obsHistID: line in schedulefile'), ('VEXPTIME', '', 'Total target visit exposure time (s)'), ('PROGPI', '', 'schedule program ID'), ('PROGID', '', 'schedule program PI'), ('PROGNAME', '', 'schedule program name'), ('VALSTART', '', 'schedule valid start (MJD)'), ('VALSTOP', '', 'schedule valid start (MJD)'), ('MXAIRMAS', '', 'scheduled max airmass'), ('NUMDITHS', '', 'total number of dithers'), ('DITHNUM', '', 'this dither number (eg 1 out of total of 5)'), ('DITHSTEP', '', 'dither step size'), ('FIELDID', '', 'Field ID number'), ('TARGNAME', '', 'target name'), ('SCHDNAME', '', 'schedule file name'), ('SCHDTYPE', '', 'schedule type (eg nightly or target)'), ('QCOMMENT', '', 'Queue comment (general comment)'), ('OBJRA', '', 'DEPRECATED - Object RA'), ('OBJDEC', '', 'DEPRECATED - Object DEC'), ('TARGRA', '', 'Target RA (J2000)'), ('TARGDEC', '', 'Target DEC (J2000)'), ('POINTRA', '', 'Target RA (J2000)'), ('POINTDEC', '', 'Target DEC (J2000)'), ('TARGTYPE', '', 'Target Type'), ('FILTER', '', 'Filter name'), ('FILTERID', '', 'Filter ID'), ('FILPOS', '', 'Filter position'), ('INSTRUME', 'spring', 'Instrument name'), ('EXPTIME', 30.0, 'Requested exposure time (sec)'), ('UTC', '20251013_194603.220000', 'Time of observation '), ('UTCISO', '2025-10-13 19:46:03.220', 'Time of observation in ISO format'), ('UTCSHUT', '20251013_194603.220000', 'UTC time shutter open'), ('UTC-OBS', '20251013 194603.220000', 'UTC time shutter open'), ('DATE-OBS', '20251013 194603.220000', 'UTC date of observation (MM/DD/YY)'), ('OBSJD', 2460962.3236483796, 'Julian day corresponds to UTC'), ('OBSMJD', 60961.82364837963, 'MJD corresponds to UTC'), ('UT_WEATH', '', 'UT of weather data'), ('TEMPTURE', '', 'Outside air temperature (C)'), ('WINDSPD', '', 'Outside wind speed'), ('WINDDIR', '', 'Outside wind direction (deg)'), ('DEWPOINT', '', 'Dewpoint (C)'), ('WETNESS', '', 'Wetness sensor reading'), ('HUMIDITY', '', 'Relative humidity (%)'), ('PRESSURE', '', 'Atmospheric pressure, millibars'), ('TEMPM1', '', 'telescope temp M1, C'), ('TEMPM2', '', 'telescope temp M2, C'), ('TEMPM3', '', 'telescope temp M3, C'), ('TEMPAMB', '', 'telescope temp ambient, C'), ('TMISCPBT', '', 'Misc Power Box Temp (C)'), ('TPBSTAR', '', 'Starboard FPA Power Box Temp (C)'), ('TPBPORT', '', 'Port FPA Power Box Temp (C)'), ('TOBSTAR', '', 'Optics Box Temp - Starboard (C)'), ('TOBPORT', '', 'Optics Box Temp - Port (C)'), ('TOBCENT', '', 'Optics Box Temp - Center (C)'), ('TFPGA', '', 'FPGA Temp - StarB (C)'), ('THXSC', '', 'FPA Heat Exchanger Temp - StarC (C)'), ('THSNKSA', '', 'FPA Heatsink Temp - StarA'), ('THSNKSB', '', 'FPA Heatsink Temp - StarB'), ('THSNKSC', '', 'FPA Heatsink Temp - StarC'), ('THSNKPA', '', 'FPA Heatsink Temp - PortA'), ('THSNKPB', '', 'FPA Heatsink Temp - PortB'), ('THSNKPC', '', 'FPA Heatsink Temp - PortC'), ('MOONRA', '', 'Moon J2000.0 R.A. (deg)'), ('MOONDEC', '', 'Moon J2000.0 Dec. (deg)'), ('MOONILLF', '', 'Moon illuminated fraction (frac)'), ('MOONPHAS', '', 'Moon phase angle (deg)'), ('MOONESB', '', 'Moon excess in sky brightness V-band'), ('MOONALT', '', 'Moon altitude (deg)'), ('MOONAZ', '', 'Moon azimuth (deg)'), ('SUNALT', '', 'Sun altitude (deg)'), ('SUNAZ', '', 'Sun azimuth (deg)'), ('SEEING', '', 'Seeing measurement: FWHM mean from focusing')]\n",
      "spring local interface: sending doExposure request to camera: imdir = ~/data/images/20251013/spring, imname = test_spring_001\n"
     ]
    }
   ],
   "source": []
  },
  {
   "cell_type": "code",
   "execution_count": 9,
   "id": "d324ba27",
   "metadata": {},
   "outputs": [
    {
     "name": "stdout",
     "output_type": "stream",
     "text": [
      "spring local interface: State changed: 2025-10-09 21:28:27.841991: READY -> SETTING_PARAMETERS\n",
      "spring local interface: State changed: 2025-10-09 21:28:28.099801: SETTING_PARAMETERS -> READY\n"
     ]
    }
   ],
   "source": [
    "cam.setExposure(5.0)"
   ]
  },
  {
   "cell_type": "code",
   "execution_count": 7,
   "id": "dce9c0ab",
   "metadata": {},
   "outputs": [
    {
     "name": "stdout",
     "output_type": "stream",
     "text": [
      "spring local interface: running doExposure\n",
      "spring local interface: State changed: 2025-10-10 02:49:23.558099: READY -> EXPOSING\n",
      "spring local interface: updating state dictionaries\n",
      "Remote camera state: SETTING_PARAMETERS\n",
      "spring local interface: State changed: 2025-10-10 02:49:28.508890: EXPOSING -> SETTING_PARAMETERS\n",
      "spring local interface: making FITS header\n",
      "spring local interface: sending doExposure request to camera: imdir = C:\\Users\\oir-user\\data\\images\\20251009, imname = SpringCamera_20251010-024923-557\n"
     ]
    }
   ],
   "source": [
    "cam.doExposure()"
   ]
  },
  {
   "cell_type": "code",
   "execution_count": null,
   "id": "5fd8730a",
   "metadata": {},
   "outputs": [
    {
     "ename": "SyntaxError",
     "evalue": "EOL while scanning string literal (3672122969.py, line 2)",
     "output_type": "error",
     "traceback": [
      "\u001b[1;36m  Cell \u001b[1;32mIn[5], line 2\u001b[1;36m\u001b[0m\n\u001b[1;33m    s = {\"command\": \"CAPTURE\", \"nframes\": 1, \"headers\": {\"OBSTYPE\": [\"test\", \"Observation Type\"], \"OBSMODE\": [\"\", \"Observation mode (eg manual/calibration/schedule\"], \"FILENAME\": [\"test_spring_001\", \"File name\"], \"ORIGNAME\": [\"test_spring_001\", \"Original filename\"], \"READOUTM\": [\"single\", \"Image readout mode (eg cds, iwr)\"], \"OBSERVAT\": [\"Palomar Observatory\", \"Observatory\"], \"TELESCOP\": [\"WINTER / P39\", \"Observatory telescope\"], \"OBSLAT\": [\"\", \"Observatory latitude (deg)\"], \"OBSLON\": [\"\", \"Observatory longitude (deg)\"], \"OBSALT\": [\"\", \"Observatory altitude (m)\"], \"TELLAT\": [\"\", \"Telescope latitude (deg)\"], \"TELLON\": [\"\", \"Telescope longitude (deg)\"], \"TELALT\": [\"\", \"Telescope altitude (m)\"], \"MIRCOVER\": [\"\", \"Mirror cover status\"], \"RA\": [\"0:00:00\", \"Requested right ascension (deg:m:s)\"], \"RADEG\": [0.0, \"Requested right ascension (deg)\"], \"DEC\": [\"0:00:00\", \"Requested declination (deg:m:s)\"], \"DECDEG\": [0.0, \"Requested declination (deg)\"], \"TELRA\": [\"0:00:00\", \"Telescope right ascension (deg:m:s)\"], \"TELDEC\": [\"0:00\u001b[0m\n\u001b[1;37m                                                                                                                                                                                                                                                                                                                                                                                                                                                                                                                                                                                                                                                                                                                                                                                                                                                                                                                                                                                                                                                                        ^\u001b[0m\n\u001b[1;31mSyntaxError\u001b[0m\u001b[1;31m:\u001b[0m EOL while scanning string literal\n"
     ]
    }
   ],
   "source": []
  }
 ],
 "metadata": {
  "kernelspec": {
   "display_name": "Python 3",
   "language": "python",
   "name": "python3"
  },
  "language_info": {
   "codemirror_mode": {
    "name": "ipython",
    "version": 3
   },
   "file_extension": ".py",
   "mimetype": "text/x-python",
   "name": "python",
   "nbconvert_exporter": "python",
   "pygments_lexer": "ipython3",
   "version": "3.9.23"
  }
 },
 "nbformat": 4,
 "nbformat_minor": 5
}
