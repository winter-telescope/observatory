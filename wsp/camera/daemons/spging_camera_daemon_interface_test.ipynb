{
 "cells": [
  {
   "cell_type": "code",
   "execution_count": 1,
   "id": "c5d2e110",
   "metadata": {},
   "outputs": [
    {
     "name": "stdout",
     "output_type": "stream",
     "text": [
      "telescope: wsp_path = /Users/nlourie/Desktop/Work/MIT/WINTER/GIT/observatory/wsp\n"
     ]
    }
   ],
   "source": [
    "from wsp.camera.camera import BaseCamera\n",
    "from wsp.utils.paths import WSP_PATH, CONFIG_PATH\n",
    "from wsp.utils.utils import loadconfig\n",
    "import time\n",
    "import json\n",
    "\n",
    "from wsp.camera.implementations.spring_camera import SpringCamera\n",
    "\n",
    "config = loadconfig(CONFIG_PATH)\n",
    "\n",
    "cam = SpringCamera(\n",
    "    base_directory=WSP_PATH,\n",
    "    config=config,\n",
    "    camname=\"spring\",\n",
    "    daemon_pyro_name=\"SpringCamera\",\n",
    "    logger=None,\n",
    "    verbose=False,\n",
    ")"
   ]
  }
 ],
 "metadata": {
  "kernelspec": {
   "display_name": "Python 3",
   "language": "python",
   "name": "python3"
  },
  "language_info": {
   "codemirror_mode": {
    "name": "ipython",
    "version": 3
   },
   "file_extension": ".py",
   "mimetype": "text/x-python",
   "name": "python",
   "nbconvert_exporter": "python",
   "pygments_lexer": "ipython3",
   "version": "3.9.23"
  }
 },
 "nbformat": 4,
 "nbformat_minor": 5
}
