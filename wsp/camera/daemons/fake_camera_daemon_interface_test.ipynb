{
 "cells": [
  {
   "cell_type": "code",
   "execution_count": 1,
   "id": "b59b1cb6",
   "metadata": {},
   "outputs": [
    {
     "name": "stdout",
     "output_type": "stream",
     "text": [
      "telescope: wsp_path = /Users/nlourie/Desktop/Work/MIT/WINTER/GIT/observatory/wsp\n"
     ]
    }
   ],
   "source": [
    "from wsp.camera.camera import BaseCamera\n",
    "from wsp.utils.paths import WSP_PATH, CONFIG_PATH\n",
    "from wsp.utils.utils import loadconfig\n",
    "import time\n",
    "\n",
    "\n",
    "class WinterDeepCamera(BaseCamera):\n",
    "    \n",
    "    \"\"\"\n",
    "    Winter Deep Camera implementation.\n",
    "    This class extends BaseCamera to provide specific functionality for the Winter Deep camera.\n",
    "    \"\"\"\n",
    "\n",
    "    def __init__(self, *args, **kwargs):\n",
    "        super().__init__(*args, **kwargs)\n",
    "        # Additional initialization if needed\n",
    "\n",
    "config = loadconfig(CONFIG_PATH)\n",
    "\n",
    "cam = WinterDeepCamera(base_directory = WSP_PATH,\n",
    "                    config = config,\n",
    "                    camname = \"WINTER-deep\",\n",
    "                    daemon_pyro_name = \"FakeCamera\",\n",
    "                    logger = None,\n",
    "                    verbose=False)\n",
    "\n"
   ]
  },
  {
   "cell_type": "code",
   "execution_count": 2,
   "id": "f012be07",
   "metadata": {},
   "outputs": [
    {
     "name": "stdout",
     "output_type": "stream",
     "text": [
      "{\n",
      "  \"timestamp\": 1756256448.947628,\n",
      "  \"camname\": \"WINTER-deep\",\n",
      "  \"is_connected\": true,\n",
      "  \"camera_state\": \"OFF\",\n",
      "  \"imdir\": \"\",\n",
      "  \"imname\": \"\",\n",
      "  \"imstarttime\": \"\",\n",
      "  \"imtype\": null,\n",
      "  \"immode\": null,\n",
      "  \"tec_temp\": 0,\n",
      "  \"tec_enabled\": 0,\n",
      "  \"tec_setpoint\": 0.0,\n",
      "  \"tec_voltage\": 0.0,\n",
      "  \"tec_current\": 0.0,\n",
      "  \"tec_percentage\": 0.0,\n",
      "  \"exptime\": 0.0\n",
      "}\n",
      "Camera state: OFF\n"
     ]
    }
   ],
   "source": [
    "cam.print_state()\n",
    "\n",
    "state = cam.state\n",
    "print(\"Camera state:\", state[\"camera_state\"])"
   ]
  },
  {
   "cell_type": "code",
   "execution_count": 3,
   "id": "0a875fc8",
   "metadata": {},
   "outputs": [
    {
     "name": "stdout",
     "output_type": "stream",
     "text": [
      "Starting up camera...\n",
      "WINTER-deep local interface: State changed: 2025-08-26 21:00:48.951393: OFF -> STARTUP_REQUESTED\n",
      "WINTER-deep local interface: State changed: 2025-08-26 21:00:51.140081: STARTUP_REQUESTED -> READY\n",
      "Camera startup took 2.2 seconds\n",
      "Camera is READY.\n"
     ]
    }
   ],
   "source": [
    "print(\"Starting up camera...\")\n",
    "sendtime = time.time()\n",
    "cam.startupCamera()\n",
    "\n",
    "while cam.state[\"camera_state\"] != \"READY\":\n",
    "\n",
    "    #print(\"Waiting for camera to be ready...\")\n",
    "    cam.update_state()\n",
    "endtime = time.time()\n",
    "\n",
    "print(f\"Camera startup took {endtime - sendtime:.1f} seconds\")\n",
    "print(\"Camera is READY.\")\n"
   ]
  },
  {
   "cell_type": "code",
   "execution_count": 4,
   "id": "91641c80",
   "metadata": {},
   "outputs": [
    {
     "name": "stdout",
     "output_type": "stream",
     "text": [
      "{\n",
      "  \"timestamp\": 1756256451.144326,\n",
      "  \"camname\": \"WINTER-deep\",\n",
      "  \"is_connected\": true,\n",
      "  \"camera_state\": \"READY\",\n",
      "  \"imdir\": \"\",\n",
      "  \"imname\": \"\",\n",
      "  \"imstarttime\": \"\",\n",
      "  \"imtype\": null,\n",
      "  \"immode\": null,\n",
      "  \"tec_temp\": 0,\n",
      "  \"tec_enabled\": 0,\n",
      "  \"tec_setpoint\": 0.0,\n",
      "  \"tec_voltage\": 0.0,\n",
      "  \"tec_current\": 0.0,\n",
      "  \"tec_percentage\": 0.0,\n",
      "  \"exptime\": 0.0\n",
      "}\n"
     ]
    }
   ],
   "source": [
    "cam.print_state()"
   ]
  },
  {
   "cell_type": "markdown",
   "id": "d105a1d9",
   "metadata": {},
   "source": []
  },
  {
   "cell_type": "code",
   "execution_count": 5,
   "id": "1b279e64",
   "metadata": {},
   "outputs": [
    {
     "name": "stdout",
     "output_type": "stream",
     "text": [
      "WINTER-deep local interface: State changed: 2025-08-26 21:00:51.148217: READY -> SETTING_PARAMETERS\n",
      "WINTER-deep local interface: State changed: 2025-08-26 21:00:51.148620: SETTING_PARAMETERS -> READY\n",
      "{\n",
      "  \"timestamp\": 1756256451.149005,\n",
      "  \"camname\": \"WINTER-deep\",\n",
      "  \"is_connected\": true,\n",
      "  \"camera_state\": \"READY\",\n",
      "  \"imdir\": \"\",\n",
      "  \"imname\": \"\",\n",
      "  \"imstarttime\": \"\",\n",
      "  \"imtype\": null,\n",
      "  \"immode\": null,\n",
      "  \"tec_temp\": 0,\n",
      "  \"tec_enabled\": 0,\n",
      "  \"tec_setpoint\": 0.0,\n",
      "  \"tec_voltage\": 0.0,\n",
      "  \"tec_current\": 0.0,\n",
      "  \"tec_percentage\": 0.0,\n",
      "  \"exptime\": 0.0\n",
      "}\n"
     ]
    }
   ],
   "source": [
    "cam.setExposure(10)\n",
    "cam.print_state()"
   ]
  },
  {
   "cell_type": "code",
   "execution_count": 6,
   "id": "839d98d1",
   "metadata": {},
   "outputs": [
    {
     "name": "stdout",
     "output_type": "stream",
     "text": [
      "Going to do an exposure:\n",
      "Camera State: READY\n",
      "Doing exposure...\n",
      "time = 2025-08-26 17:00:51\n",
      "WINTER-deep local interface: running doExposure\n",
      "WINTER-deep local interface: State changed: 2025-08-26 21:00:51.153329: READY -> EXPOSING\n",
      "WINTER-deep local interface: updating state dictionaries\n",
      "WINTER-deep local interface: making FITS header\n",
      "WINTER-deep local interface: sending doExposure request to camera: imdir = /Users/nlourie/data/images/20250826, imname = FakeCamera_20250826-210051-153\n",
      "Waiting for exposure to complete...\n",
      "Camera State: EXPOSING\n",
      "WINTER-deep local interface: State changed: 2025-08-26 21:01:02.202103: EXPOSING -> READY\n",
      "Camera exposure took 11.2 seconds\n",
      "Camera State: READY\n"
     ]
    }
   ],
   "source": [
    "print(\"Going to do an exposure:\")\n",
    "print(f\"Camera State: {cam.state['camera_state']}\")\n",
    "\n",
    "\n",
    "print(\"Doing exposure...\")\n",
    "print(f\"time = {time.strftime('%Y-%m-%d %H:%M:%S', time.localtime())}\")\n",
    "sendtime = time.time()\n",
    "\n",
    "cam.doExposure()\n",
    "#time.sleep(1.0)  # Wait for daemon to process\n",
    "# first wait until it registers that camera_state is EXPOSING\n",
    "print(\"Waiting for exposure to complete...\")\n",
    "print(f\"Camera State: {cam.state['camera_state']}\")\n",
    "\n",
    "while cam.state[\"camera_state\"] in (\"EXPOSING\", \"SETTING_PARAMETERS\"):\n",
    "    cam.update_state()\n",
    "    time.sleep(0.1)\n",
    "    \n",
    "endtime = time.time()\n",
    "print(f\"Camera exposure took {endtime - sendtime:.1f} seconds\")\n",
    "print(f\"Camera State: {cam.state['camera_state']}\")\n"
   ]
  }
 ],
 "metadata": {
  "kernelspec": {
   "display_name": "Python 3",
   "language": "python",
   "name": "python3"
  },
  "language_info": {
   "codemirror_mode": {
    "name": "ipython",
    "version": 3
   },
   "file_extension": ".py",
   "mimetype": "text/x-python",
   "name": "python",
   "nbconvert_exporter": "python",
   "pygments_lexer": "ipython3",
   "version": "3.9.23"
  }
 },
 "nbformat": 4,
 "nbformat_minor": 5
}
