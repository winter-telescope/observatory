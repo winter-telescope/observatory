{
 "cells": [
  {
   "cell_type": "code",
   "execution_count": 1,
   "id": "b59b1cb6",
   "metadata": {},
   "outputs": [
    {
     "name": "stdout",
     "output_type": "stream",
     "text": [
      "telescope: wsp_path = /Users/nlourie/Desktop/Work/MIT/WINTER/GIT/observatory/wsp\n",
      "WINTER-deep local interface: State changed: 2025-08-22 19:12:41.890894: OFF -> READY\n"
     ]
    }
   ],
   "source": [
    "from wsp.camera.camera import BaseCamera\n",
    "from wsp.utils.paths import WSP_PATH, CONFIG_PATH\n",
    "from wsp.utils.utils import loadconfig\n",
    "import time\n",
    "\n",
    "\n",
    "class WinterDeepCamera(BaseCamera):\n",
    "    \n",
    "    \"\"\"\n",
    "    Winter Deep Camera implementation.\n",
    "    This class extends BaseCamera to provide specific functionality for the Winter Deep camera.\n",
    "    \"\"\"\n",
    "\n",
    "    def __init__(self, *args, **kwargs):\n",
    "        super().__init__(*args, **kwargs)\n",
    "        # Additional initialization if needed\n",
    "\n",
    "config = loadconfig(CONFIG_PATH)\n",
    "\n",
    "cam = WinterDeepCamera(base_directory = WSP_PATH,\n",
    "                    config = config,\n",
    "                    camname = \"WINTER-deep\",\n",
    "                    daemon_pyro_name = \"FakeCamera\",\n",
    "                    logger = None,\n",
    "                    verbose=False)\n",
    "\n"
   ]
  },
  {
   "cell_type": "code",
   "execution_count": 2,
   "id": "f012be07",
   "metadata": {},
   "outputs": [
    {
     "name": "stdout",
     "output_type": "stream",
     "text": [
      "{\n",
      "  \"camera_state\": \"READY\",\n",
      "  \"camname\": \"WINTER-deep\",\n",
      "  \"is_connected\": true,\n",
      "  \"imdir\": \"\",\n",
      "  \"imname\": \"\",\n",
      "  \"imstarttime\": \"\",\n",
      "  \"imtype\": null,\n",
      "  \"immode\": null\n",
      "}\n",
      "Camera state: READY\n"
     ]
    }
   ],
   "source": [
    "cam.print_state()\n",
    "\n",
    "state = cam.state\n",
    "print(\"Camera state:\", state[\"camera_state\"])"
   ]
  },
  {
   "cell_type": "code",
   "execution_count": 3,
   "id": "0a875fc8",
   "metadata": {},
   "outputs": [
    {
     "name": "stdout",
     "output_type": "stream",
     "text": [
      "Starting up camera...\n",
      "WINTER-deep local interface: State changed: 2025-08-22 19:12:46.449468: READY -> STARTUP_REQUESTED\n",
      "WINTER-deep local interface: State changed: 2025-08-22 19:12:46.450743: STARTUP_REQUESTED -> READY\n",
      "Camera startup took 0.0 seconds\n",
      "Camera is READY.\n"
     ]
    }
   ],
   "source": [
    "print(\"Starting up camera...\")\n",
    "sendtime = time.time()\n",
    "cam.startupCamera()\n",
    "\n",
    "while cam.state[\"camera_state\"] != \"READY\":\n",
    "\n",
    "    #print(\"Waiting for camera to be ready...\")\n",
    "    cam.update_state()\n",
    "endtime = time.time()\n",
    "\n",
    "print(f\"Camera startup took {endtime - sendtime:.1f} seconds\")\n",
    "print(\"Camera is READY.\")\n"
   ]
  },
  {
   "cell_type": "code",
   "execution_count": 8,
   "id": "91641c80",
   "metadata": {},
   "outputs": [
    {
     "name": "stdout",
     "output_type": "stream",
     "text": [
      "WINTER-deep local interface: State verification timeout! Expected STARTUP_REQUESTED but daemon reports READY after 13.7s\n",
      "{\n",
      "  \"camera_state\": \"READY\",\n",
      "  \"camname\": \"WINTER-deep\",\n",
      "  \"is_connected\": true,\n",
      "  \"imdir\": \"\",\n",
      "  \"imname\": \"\",\n",
      "  \"imstarttime\": \"\",\n",
      "  \"imtype\": null,\n",
      "  \"immode\": null\n",
      "}\n"
     ]
    }
   ],
   "source": [
    "cam.print_state()"
   ]
  },
  {
   "cell_type": "markdown",
   "id": "d105a1d9",
   "metadata": {},
   "source": []
  },
  {
   "cell_type": "code",
   "execution_count": 4,
   "id": "1b279e64",
   "metadata": {},
   "outputs": [
    {
     "name": "stdout",
     "output_type": "stream",
     "text": [
      "WINTER-deep local interface: State changed: 2025-08-22 19:12:49.641170: READY -> SETTING_PARAMETERS\n",
      "WINTER-deep local interface: State changed: 2025-08-22 19:12:49.642248: SETTING_PARAMETERS -> READY\n",
      "{\n",
      "  \"camera_state\": \"READY\",\n",
      "  \"camname\": \"WINTER-deep\",\n",
      "  \"is_connected\": true,\n",
      "  \"imdir\": \"\",\n",
      "  \"imname\": \"\",\n",
      "  \"imstarttime\": \"\",\n",
      "  \"imtype\": null,\n",
      "  \"immode\": null\n",
      "}\n"
     ]
    }
   ],
   "source": [
    "cam.setExposure(10)\n",
    "cam.print_state()"
   ]
  },
  {
   "cell_type": "code",
   "execution_count": null,
   "id": "839d98d1",
   "metadata": {},
   "outputs": [
    {
     "name": "stdout",
     "output_type": "stream",
     "text": [
      "Doing exposure...\n",
      "time = 2025-08-22 15:12:53\n",
      "WINTER-deep local interface: running doExposure\n",
      "WINTER-deep local interface: State changed: 2025-08-22 19:12:53.026445: READY -> EXPOSING\n",
      "WINTER-deep local interface: updating state dictionaries\n",
      "WINTER-deep local interface: making FITS header\n",
      "WINTER-deep local interface: sending doExposure request to camera: imdir = /Users/nlourie/data/images/20250822, imname = FakeCamera_20250822-191253-025\n",
      "Waiting for camera to start exposure...\n",
      "Camera State: EXPOSING\n",
      "Waiting for exposure to complete...\n",
      "WINTER-deep local interface: State changed: 2025-08-22 19:12:53.032862: EXPOSING -> READY\n",
      "WINTER-deep local interface: State changed: 2025-08-22 19:12:53.139240: READY -> EXPOSING\n",
      "WINTER-deep local interface: State changed: 2025-08-22 19:13:04.058748: EXPOSING -> READY\n"
     ]
    },
    {
     "ename": "KeyboardInterrupt",
     "evalue": "",
     "output_type": "error",
     "traceback": [
      "\u001b[0;31m---------------------------------------------------------------------------\u001b[0m",
      "\u001b[0;31mKeyboardInterrupt\u001b[0m                         Traceback (most recent call last)",
      "Cell \u001b[0;32mIn[5], line 16\u001b[0m\n\u001b[1;32m     14\u001b[0m \u001b[38;5;28;01mwhile\u001b[39;00m \u001b[38;5;28;01mTrue\u001b[39;00m:\u001b[38;5;66;03m#while cam.state[\"camera_state\"] != \"READY\":\u001b[39;00m\n\u001b[1;32m     15\u001b[0m     cam\u001b[38;5;241m.\u001b[39mupdate_state()\n\u001b[0;32m---> 16\u001b[0m     \u001b[43mtime\u001b[49m\u001b[38;5;241;43m.\u001b[39;49m\u001b[43msleep\u001b[49m\u001b[43m(\u001b[49m\u001b[38;5;241;43m0.1\u001b[39;49m\u001b[43m)\u001b[49m\n\u001b[1;32m     17\u001b[0m endtime \u001b[38;5;241m=\u001b[39m time\u001b[38;5;241m.\u001b[39mtime()\n\u001b[1;32m     19\u001b[0m \u001b[38;5;28mprint\u001b[39m(\u001b[38;5;124mf\u001b[39m\u001b[38;5;124m\"\u001b[39m\u001b[38;5;124mCamera exposure took \u001b[39m\u001b[38;5;132;01m{\u001b[39;00mendtime\u001b[38;5;250m \u001b[39m\u001b[38;5;241m-\u001b[39m\u001b[38;5;250m \u001b[39msendtime\u001b[38;5;132;01m:\u001b[39;00m\u001b[38;5;124m.1f\u001b[39m\u001b[38;5;132;01m}\u001b[39;00m\u001b[38;5;124m seconds\u001b[39m\u001b[38;5;124m\"\u001b[39m)\n",
      "\u001b[0;31mKeyboardInterrupt\u001b[0m: "
     ]
    }
   ],
   "source": [
    "print(\"Doing exposure...\")\n",
    "print(f\"time = {time.strftime('%Y-%m-%d %H:%M:%S', time.localtime())}\")\n",
    "sendtime = time.time()\n",
    "cam.doExposure()\n",
    "#time.sleep(1.0)  # Wait for daemon to process\n",
    "# first wait until it registers that camera_state is EXPOSING\n",
    "print(\"Waiting for exposure to complete...\")\n",
    "while cam.camera_state in (\"EXPOSING\", \"SETTING_PARAMETERS\"):\n",
    "    cam.update_state()\n",
    "    time.sleep(0.1)\n",
    "endtime = time.time()\n",
    "\n",
    "print(f\"Camera exposure took {endtime - sendtime:.1f} seconds\")\n",
    "print(\"Camera is READY.\")\n"
   ]
  },
  {
   "cell_type": "code",
   "execution_count": 18,
   "id": "e05c41c0",
   "metadata": {},
   "outputs": [
    {
     "name": "stdout",
     "output_type": "stream",
     "text": [
      "WINTER-deep local interface: State changed: OFF -> READY\n",
      "Starting up camera...\n",
      "WINTER-deep local interface: State changed: READY -> STARTUP_REQUESTED\n",
      "WINTER-deep local interface: State changed: STARTUP_REQUESTED -> READY\n",
      "Camera startup took 0.0 seconds\n",
      "Camera is READY.\n",
      "\n",
      "[DEBUG] State setter called:\n",
      "[DEBUG] Changing from READY to SETTING_PARAMETERS\n",
      "[DEBUG] Call stack:\n",
      "File \"/Users/nlourie/Desktop/Work/MIT/WINTER/GIT/observatory/wsp/camera/camera.py\", line 329, in setExposure\n",
      "    self.camera_state = CameraState.SETTING_PARAMETERS\n",
      "WINTER-deep local interface: State changed: READY -> SETTING_PARAMETERS\n",
      "\n",
      "[DEBUG] State setter called:\n",
      "[DEBUG] Changing from SETTING_PARAMETERS to READY\n",
      "[DEBUG] Call stack:\n",
      "File \"/Users/nlourie/Desktop/Work/MIT/WINTER/GIT/observatory/wsp/camera/camera.py\", line 334, in setExposure\n",
      "    self.camera_state = CameraState.READY\n",
      "WINTER-deep local interface: State changed: SETTING_PARAMETERS -> READY\n",
      "\n",
      "=== Starting exposure test ===\n",
      "\n",
      "Doing exposure...\n",
      "time = 2025-08-22 14:59:27\n",
      "Doing exposure...\n",
      "time = 2025-08-22 14:59:27\n",
      "WINTER-deep local interface: running doExposure\n",
      "\n",
      "[DEBUG] State setter called:\n",
      "[DEBUG] Changing from READY to EXPOSING\n",
      "[DEBUG] Call stack:\n",
      "File \"/Users/nlourie/Desktop/Work/MIT/WINTER/GIT/observatory/wsp/camera/camera.py\", line 371, in doExposure\n",
      "    self.camera_state = CameraState.EXPOSING\n",
      "WINTER-deep local interface: State changed: READY -> EXPOSING\n",
      "WINTER-deep local interface: updating state dictionaries\n",
      "WINTER-deep local interface: making FITS header\n",
      "WINTER-deep local interface: sending doExposure request to camera: imdir = /Users/nlourie/data/images/20250822, imname = FakeCamera_20250822-185927-674\n",
      "\n",
      "[DEBUG] update_state called from:\n",
      "[DEBUG] Current local state: EXPOSING\n",
      "[DEBUG] About to poll daemon...\n",
      "\n",
      "[DEBUG] State setter called:\n",
      "[DEBUG] Changing from EXPOSING to READY\n",
      "[DEBUG] Call stack:\n",
      "File \"/Users/nlourie/Desktop/Work/MIT/WINTER/GIT/observatory/wsp/camera/camera.py\", line 251, in update_state\n",
      "    self.camera_state = new_state\n",
      "WINTER-deep local interface: State changed: EXPOSING -> READY\n",
      "[DEBUG] After polling - local state: READY\n",
      "[DEBUG] Remote state dict: READY\n",
      "Camera exposure took 0.3 seconds\n",
      "Camera is READY.\n",
      "Camera exposure took 0.3 seconds\n",
      "Camera is READY.\n"
     ]
    }
   ],
   "source": [
    "import time\n",
    "import traceback\n",
    "\n",
    "from wsp.camera.camera import BaseCamera\n",
    "from wsp.utils.paths import WSP_PATH, CONFIG_PATH\n",
    "from wsp.utils.utils import loadconfig\n",
    "import time\n",
    "\n",
    "\n",
    "class WinterDeepCamera(BaseCamera):\n",
    "    \n",
    "    \"\"\"\n",
    "    Winter Deep Camera implementation.\n",
    "    This class extends BaseCamera to provide specific functionality for the Winter Deep camera.\n",
    "    \"\"\"\n",
    "\n",
    "    def __init__(self, *args, **kwargs):\n",
    "        super().__init__(*args, **kwargs)\n",
    "        # Additional initialization if needed\n",
    "\n",
    "config = loadconfig(CONFIG_PATH)\n",
    "\n",
    "cam = WinterDeepCamera(base_directory = WSP_PATH,\n",
    "                    config = config,\n",
    "                    camname = \"WINTER-deep\",\n",
    "                    daemon_pyro_name = \"FakeCamera\",\n",
    "                    logger = None,\n",
    "                    verbose=False)\n",
    "\n",
    "\n",
    "# Monkey patch the camera's update_state method to add debugging\n",
    "def debug_update_state(cam):\n",
    "    original_update_state = cam.update_state\n",
    "    \n",
    "    def wrapped_update_state():\n",
    "        print(f\"\\n[DEBUG] update_state called from:\")\n",
    "        # Print call stack\n",
    "        for line in traceback.format_stack()[:-1]:\n",
    "            if \"wsp\" in line or \"debug\" in line:\n",
    "                print(line.strip())\n",
    "        \n",
    "        print(f\"[DEBUG] Current local state: {cam._camera_state.value}\")\n",
    "        print(f\"[DEBUG] About to poll daemon...\")\n",
    "        \n",
    "        # Call original\n",
    "        original_update_state()\n",
    "        \n",
    "        print(f\"[DEBUG] After polling - local state: {cam._camera_state.value}\")\n",
    "        print(f\"[DEBUG] Remote state dict: {cam.remote_state.get('camera_state', 'UNKNOWN')}\")\n",
    "        \n",
    "    cam.update_state = wrapped_update_state\n",
    "\n",
    "\n",
    "# Also patch camera_state setter to see all state changes\n",
    "def debug_camera_state(cam):\n",
    "    original_setter = type(cam).camera_state.fset\n",
    "    \n",
    "    def wrapped_setter(self, new_state):\n",
    "        print(f\"\\n[DEBUG] State setter called:\")\n",
    "        print(f\"[DEBUG] Changing from {self._camera_state.value} to {new_state.value}\")\n",
    "        print(f\"[DEBUG] Call stack:\")\n",
    "        for line in traceback.format_stack()[:-1]:\n",
    "            if \"wsp\" in line or \"debug\" in line:\n",
    "                print(line.strip())\n",
    "        \n",
    "        # Call original\n",
    "        original_setter(self, new_state)\n",
    "    \n",
    "    # Replace the setter\n",
    "    type(cam).camera_state = property(\n",
    "        fget=type(cam).camera_state.fget,\n",
    "        fset=wrapped_setter\n",
    "    )\n",
    "\n",
    "\n",
    "print(\"Starting up camera...\")\n",
    "sendtime = time.time()\n",
    "cam.startupCamera()\n",
    "\n",
    "while cam.state[\"camera_state\"] != \"READY\":\n",
    "\n",
    "    #print(\"Waiting for camera to be ready...\")\n",
    "    cam.update_state()\n",
    "endtime = time.time()\n",
    "\n",
    "print(f\"Camera startup took {endtime - sendtime:.1f} seconds\")\n",
    "print(\"Camera is READY.\")\n",
    "\n",
    "\n",
    "# Apply debug patches\n",
    "debug_update_state(cam)\n",
    "debug_camera_state(cam)\n",
    "\n",
    "cam.setExposure(10)\n",
    "while cam.state[\"camera_state\"] != \"READY\":\n",
    "    cam.update_state()\n",
    "    time.sleep(0.1)\n",
    "\n",
    "print(\"\\n=== Starting exposure test ===\\n\")\n",
    "\n",
    "print(\"Doing exposure...\")\n",
    "print(f\"time = {time.strftime('%Y-%m-%d %H:%M:%S', time.localtime())}\")\n",
    "sendtime = time.time()\n",
    "\n",
    "print(\"Doing exposure...\")\n",
    "print(f\"time = {time.strftime('%Y-%m-%d %H:%M:%S', time.localtime())}\")\n",
    "sendtime = time.time()\n",
    "cam.doExposure()\n",
    "time.sleep(0.2)  # Wait for daemon to process\n",
    "\n",
    "while cam.state[\"camera_state\"] != \"READY\":\n",
    "    cam.update_state()\n",
    "    time.sleep(0.1)\n",
    "endtime = time.time()\n",
    "\n",
    "print(f\"Camera exposure took {endtime - sendtime:.1f} seconds\")\n",
    "print(\"Camera is READY.\")\n",
    "\n",
    "\n",
    "print(f\"Camera exposure took {endtime - sendtime:.1f} seconds\")\n",
    "print(\"Camera is READY.\")"
   ]
  }
 ],
 "metadata": {
  "kernelspec": {
   "display_name": "Python 3",
   "language": "python",
   "name": "python3"
  },
  "language_info": {
   "codemirror_mode": {
    "name": "ipython",
    "version": 3
   },
   "file_extension": ".py",
   "mimetype": "text/x-python",
   "name": "python",
   "nbconvert_exporter": "python",
   "pygments_lexer": "ipython3",
   "version": "3.9.23"
  }
 },
 "nbformat": 4,
 "nbformat_minor": 5
}
