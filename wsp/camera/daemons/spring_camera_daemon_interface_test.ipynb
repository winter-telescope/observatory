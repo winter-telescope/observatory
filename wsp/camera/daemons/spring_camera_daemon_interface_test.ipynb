{
 "cells": [
  {
   "cell_type": "code",
   "execution_count": 1,
   "id": "c5d2e110",
   "metadata": {},
   "outputs": [
    {
     "name": "stdout",
     "output_type": "stream",
     "text": [
      "telescope: wsp_path = C:\\Users\\oir-user\\Desktop\\GIT\\observatory\\wsp\n",
      "spring local interface: State changed: 2025-10-15 22:25:41.218641: OFF -> READY\n",
      "spring local interface: State changed: 2025-10-15 22:25:41.273755: OFF -> READY\n"
     ]
    }
   ],
   "source": [
    "from wsp.utils.paths import WSP_PATH, CONFIG_PATH\n",
    "from wsp.utils.utils import loadconfig\n",
    "from datetime import datetime\n",
    "from wsp.camera.implementations.spring_camera import SpringCamera\n",
    "\n",
    "config = loadconfig(CONFIG_PATH)\n",
    "\n",
    "cam = SpringCamera(\n",
    "    base_directory=WSP_PATH,\n",
    "    config=config,\n",
    "    camname=\"spring\",\n",
    "    daemon_pyro_name=\"SpringCamera\",\n",
    "    ns_host_camera = \"localhost\",\n",
    "    ns_host_hk = \"192.168.1.10\",\n",
    "    logger=None,\n",
    "    verbose=False,\n",
    ")"
   ]
  },
  {
   "cell_type": "code",
   "execution_count": 2,
   "id": "12d2aed0",
   "metadata": {},
   "outputs": [
    {
     "name": "stdout",
     "output_type": "stream",
     "text": [
      "spring local interface: State changed: 2025-10-15 21:49:10.716960: OFF -> STARTUP_REQUESTED\n"
     ]
    }
   ],
   "source": [
    "cam.startupCamera()"
   ]
  },
  {
   "cell_type": "code",
   "execution_count": null,
   "id": "fa2c38f3",
   "metadata": {},
   "outputs": [],
   "source": [
    "cam.update_state()\n",
    "cam.state[\"camera_state\"]"
   ]
  },
  {
   "cell_type": "code",
   "execution_count": 3,
   "id": "723684c5",
   "metadata": {},
   "outputs": [
    {
     "name": "stdout",
     "output_type": "stream",
     "text": [
      "Camera state:\n",
      "Attmpting to take image test_20251015_122642 in ~/data/images/20251015/spring\n",
      "spring local interface: State changed: 2025-10-15 16:26:42.389134: STARTUP_REQUESTED -> READY\n",
      "Camera State: READY\n",
      "spring local interface: running doExposure\n",
      "spring local interface: State changed: 2025-10-15 16:26:42.389134: READY -> EXPOSING\n",
      "spring local interface: updating state dictionaries\n",
      "spring local interface: making FITS header\n",
      "spring local interface: header: [('OBSTYPE', 'test', 'Observation Type'), ('OBSMODE', '', 'Observation mode (eg manual/calibration/schedule'), ('FILENAME', 'test_20251015_122642', 'File name'), ('ORIGNAME', 'test_20251015_122642', 'Original filename'), ('READOUTM', 'single', 'Image readout mode (eg cds, iwr)'), ('OBSERVAT', 'Palomar Observatory', 'Observatory'), ('TELESCOP', 'WINTER / P39', 'Observatory telescope'), ('OBSLAT', 33.356, 'Observatory latitude (deg)'), ('OBSLON', -116.863, 'Observatory longitude (deg)'), ('OBSALT', 1706, 'Observatory altitude (m)'), ('TELLAT', 33.356, 'Telescope latitude (deg)'), ('TELLON', -116.863, 'Telescope longitude (deg)'), ('TELALT', 1706.0, 'Telescope altitude (m)'), ('MIRCOVER', 'CLOSED', 'Mirror cover status'), ('RA', '126:42:47.24457113', 'Requested right ascension (deg:m:s)'), ('RADEG', 126.7131234919803, 'Requested right ascension (deg)'), ('DEC', '-3:46:37.06215873', 'Requested declination (deg:m:s)'), ('DECDEG', -3.77696171075849, 'Requested declination (deg)'), ('TELRA', '126:42:47.24457113', 'Telescope right ascension (deg:m:s)'), ('TELDEC', '-3:46:37.06215873', 'Telescope declination (deg:m:s)'), ('AZIMUTH', 220.001568860737, 'Telescope azimuth (deg)'), ('ALTITUDE', 44.7675746604963, 'Telescope altitude (deg)'), ('ELVATION', 44.7675746604963, 'Telescope elevation (deg)'), ('AIRMASS', 1.4199855255768816, 'Airmass'), ('DOME_AZ', 40.0, 'Dome azimuth (deg)'), ('FOCPOS', 11852.1879167574, 'Focuser position (micron)'), ('ROTMECH', 65.4833833943327, 'Rotator mechanical angle (deg)'), ('ROTFIELD', 142.835665448251, 'Rotator field angle (deg)'), ('OBHISTID', -1, 'obsHistID: line in schedulefile'), ('VEXPTIME', -1, 'Total target visit exposure time (s)'), ('PROGPI', '', 'schedule program ID'), ('PROGID', -1, 'schedule program PI'), ('PROGNAME', '', 'schedule program name'), ('VALSTART', -1, 'schedule valid start (MJD)'), ('VALSTOP', -1, 'schedule valid start (MJD)'), ('MXAIRMAS', 3.8637033051562737, 'scheduled max airmass'), ('NUMDITHS', 1, 'total number of dithers'), ('DITHNUM', 1, 'this dither number (eg 1 out of total of 5)'), ('DITHSTEP', 0, 'dither step size'), ('FIELDID', -1, 'Field ID number'), ('TARGNAME', '', 'target name'), ('SCHDNAME', '', 'schedule file name'), ('SCHDTYPE', '', 'schedule type (eg nightly or target)'), ('QCOMMENT', '', 'Queue comment (general comment)'), ('OBJRA', '', 'DEPRECATED - Object RA'), ('OBJDEC', '', 'DEPRECATED - Object DEC'), ('TARGRA', '', 'Target RA (J2000)'), ('TARGDEC', '', 'Target DEC (J2000)'), ('POINTRA', '', 'Target RA (J2000)'), ('POINTDEC', '', 'Target DEC (J2000)'), ('TARGTYPE', '', 'Target Type'), ('FILTER', '', 'Filter name'), ('FILTERID', '', 'Filter ID'), ('FILPOS', '', 'Filter position'), ('INSTRUME', 'spring', 'Instrument name'), ('EXPTIME', 30.0, 'Requested exposure time (sec)'), ('UTC', '20251015_162642.389000', 'Time of observation '), ('UTCISO', '2025-10-15 16:26:42.389', 'Time of observation in ISO format'), ('UTCSHUT', '20251015_162642.389000', 'UTC time shutter open'), ('UTC-OBS', '20251015 162642.389000', 'UTC time shutter open'), ('DATE-OBS', '20251015 162642.389000', 'UTC date of observation (MM/DD/YY)'), ('OBSJD', 2460964.1852128357, 'Julian day corresponds to UTC'), ('OBSMJD', 60963.68521283565, 'MJD corresponds to UTC'), ('UT_WEATH', '2025-10-15 192640.710000', 'UT of weather data'), ('TEMPTURE', 5.4, 'Outside air temperature (C)'), ('WINDSPD', 2.3, 'Outside wind speed'), ('WINDDIR', 220, 'Outside wind direction (deg)'), ('DEWPOINT', 4.9, 'Dewpoint (C)'), ('WETNESS', 1, 'Wetness sensor reading'), ('HUMIDITY', 96.0, 'Relative humidity (%)'), ('PRESSURE', 828.0, 'Atmospheric pressure, millibars'), ('TEMPM1', 4.881, 'telescope temp M1, C'), ('TEMPM2', 4.657, 'telescope temp M2, C'), ('TEMPM3', 569.458, 'telescope temp M3, C'), ('TEMPAMB', 5.208, 'telescope temp ambient, C'), ('TMISCPBT', 8.579838970926353, 'Misc Power Box Temp (C)'), ('TPBSTAR', 9.31569649144979, 'Starboard FPA Power Box Temp (C)'), ('TPBPORT', 8.79018641698029, 'Port FPA Power Box Temp (C)'), ('TOBSTAR', 7.939037328878118, 'Optics Box Temp - Starboard (C)'), ('TOBPORT', 8.14411699231877, 'Optics Box Temp - Port (C)'), ('TOBCENT', 8.21623702424989, 'Optics Box Temp - Center (C)'), ('TFPGA', 8.483679684659668, 'FPGA Temp - StarB (C)'), ('THXSC', 9.957924752675432, 'FPA Heat Exchanger Temp - StarC (C)'), ('THSNKSA', 8.450623724639392, 'FPA Heatsink Temp - StarA'), ('THSNKSB', -40.0, 'FPA Heatsink Temp - StarB'), ('THSNKSC', 10.081999647488393, 'FPA Heatsink Temp - StarC'), ('THSNKPA', -40.0, 'FPA Heatsink Temp - PortA'), ('THSNKPB', -40.0, 'FPA Heatsink Temp - PortB'), ('THSNKPC', 10.129111994651216, 'FPA Heatsink Temp - PortC'), ('MOONRA', '', 'Moon J2000.0 R.A. (deg)'), ('MOONDEC', '', 'Moon J2000.0 Dec. (deg)'), ('MOONILLF', '', 'Moon illuminated fraction (frac)'), ('MOONPHAS', '', 'Moon phase angle (deg)'), ('MOONESB', '', 'Moon excess in sky brightness V-band'), ('MOONALT', 69.91486464837301, 'Moon altitude (deg)'), ('MOONAZ', 225.17838177519118, 'Moon azimuth (deg)'), ('SUNALT', 28.885331072029928, 'Sun altitude (deg)'), ('SUNAZ', '', 'Sun azimuth (deg)'), ('SEEING', '', 'Seeing measurement: FWHM mean from focusing')]\n",
      "spring local interface: sending doExposure request to camera: imdir = ~/data/images/20251015/spring, imname = test_20251015_122642\n",
      "Camera State: EXPOSING\n",
      "Waiting for camera to be ready...\n",
      "spring local interface: State changed: 2025-10-15 16:27:00.559525: EXPOSING -> READY\n",
      "Camera State: READY\n",
      "Camera exposure took 18.2 seconds\n"
     ]
    }
   ],
   "source": [
    "import time\n",
    "imdir = \"~/data/images/20251015/spring\"\n",
    "timestamp = datetime.now().strftime(\"%Y%m%d_%H%M%S\")\n",
    "imname = f\"test_{timestamp}\"\n",
    "\n",
    "print(f\"Camera state:\")\n",
    "print(f\"Attmpting to take image {imname} in {imdir}\")\n",
    "cam.update_state()\n",
    "print(f\"Camera State: {cam.state['camera_state']}\")\n",
    "sendtime = time.time()\n",
    "cam.doExposure(imdir =imdir, imname = imname)\n",
    "print(f\"Camera State: {cam.state['camera_state']}\")\n",
    "print(\"Waiting for camera to be ready...\")\n",
    "while cam.state[\"camera_state\"] != \"READY\":\n",
    "\n",
    "    #print(\"Waiting for camera to be ready...\")\n",
    "    cam.update_state()\n",
    "endtime = time.time()\n",
    "\n",
    "print(f\"Camera State: {cam.state['camera_state']}\")\n",
    "\n",
    "print(f\"Camera exposure took {endtime - sendtime:.1f} seconds\")\n",
    "\n"
   ]
  },
  {
   "cell_type": "markdown",
   "id": "494403e7",
   "metadata": {},
   "source": []
  },
  {
   "cell_type": "code",
   "execution_count": 15,
   "id": "9103ed4b",
   "metadata": {},
   "outputs": [
    {
     "name": "stdout",
     "output_type": "stream",
     "text": [
      "Camera state:\n",
      "Attmpting to set exposure time to 30 s\n",
      "Camera State: READY\n",
      "spring local interface: State changed: 2025-10-15 21:41:42.793203: READY -> SETTING_PARAMETERS\n",
      "spring local interface: State changed: 2025-10-15 21:41:42.794502: SETTING_PARAMETERS -> READY\n",
      "Camera State: READY\n",
      "Waiting for camera to be ready...\n",
      "Camera State: READY\n",
      "Setting exposure time took 0.0 seconds\n"
     ]
    }
   ],
   "source": [
    "import time\n",
    "timestamp = datetime.now().strftime(\"%Y%m%d_%H%M%S\")\n",
    "exptime = 30  # seconds\n",
    "print(f\"Camera state:\")\n",
    "print(f\"Attmpting to set exposure time to {exptime} s\")\n",
    "cam.update_state()\n",
    "print(f\"Camera State: {cam.state['camera_state']}\")\n",
    "sendtime = time.time()\n",
    "cam.setExposure(exptime)\n",
    "print(f\"Camera State: {cam.state['camera_state']}\")\n",
    "print(\"Waiting for camera to be ready...\")\n",
    "while cam.state[\"camera_state\"] != \"READY\":\n",
    "\n",
    "    #print(\"Waiting for camera to be ready...\")\n",
    "    cam.update_state()\n",
    "endtime = time.time()\n",
    "\n",
    "print(f\"Camera State: {cam.state['camera_state']}\")\n",
    "\n",
    "print(f\"Setting exposure time took {endtime - sendtime:.1f} seconds\")\n",
    "\n"
   ]
  },
  {
   "cell_type": "code",
   "execution_count": 6,
   "id": "af4a80eb",
   "metadata": {},
   "outputs": [
    {
     "name": "stdout",
     "output_type": "stream",
     "text": [
      "spring local interface: State changed: 2025-10-15 22:25:12.190095: OFF -> SETTING_PARAMETERS\n",
      "spring local interface: State changed: 2025-10-15 22:25:12.191096: SETTING_PARAMETERS -> READY\n"
     ]
    }
   ],
   "source": [
    "cam.setExposure(60)"
   ]
  },
  {
   "cell_type": "code",
   "execution_count": 8,
   "id": "28573d4f",
   "metadata": {},
   "outputs": [
    {
     "name": "stdout",
     "output_type": "stream",
     "text": [
      "GUI State: READY\n"
     ]
    }
   ],
   "source": [
    "cam.update_state()\n",
    "print(f\"GUI State: {cam.state.get('gui_state', 'UNKNOWN')}\")\n",
    "\n"
   ]
  },
  {
   "cell_type": "code",
   "execution_count": null,
   "id": "f18084eb",
   "metadata": {},
   "outputs": [],
   "source": []
  },
  {
   "cell_type": "code",
   "execution_count": 9,
   "id": "9b2078af",
   "metadata": {},
   "outputs": [
    {
     "name": "stdout",
     "output_type": "stream",
     "text": [
      "{\n",
      "  \"camera_state\": \"READY\",\n",
      "  \"timestamp\": 1760574397.200087,\n",
      "  \"camname\": \"spring\",\n",
      "  \"is_connected\": true,\n",
      "  \"imdir\": \"~/data/images/20251015/spring\",\n",
      "  \"imname\": \"test_20251015_122642\",\n",
      "  \"imstarttime\": \"20251015-162642-389\",\n",
      "  \"imtype\": \"test\",\n",
      "  \"immode\": \"single\",\n",
      "  \"tec_temp\": -59.98,\n",
      "  \"tec_enabled\": 1,\n",
      "  \"tec_setpoint\": -60.0,\n",
      "  \"tec_voltage\": 5.340016,\n",
      "  \"tec_current\": 3.625936790123457,\n",
      "  \"tec_percentage\": 59.333511111111115,\n",
      "  \"tec_steady\": 1,\n",
      "  \"exptime\": 30.0,\n",
      "  \"connected\": true,\n",
      "  \"command_running\": false,\n",
      "  \"current_command\": null,\n",
      "  \"case_temp\": 13.68,\n",
      "  \"digpcb_temp\": 32.75,\n",
      "  \"senspcb_temp\": 11.75,\n",
      "  \"gain_corr\": 0,\n",
      "  \"offset_corr\": 0,\n",
      "  \"sub_corr\": 0,\n",
      "  \"gui_state\": \"READY\",\n",
      "  \"command_elapsed_dt\": 0,\n",
      "  \"pending_completion\": false,\n",
      "  \"command_active\": 0,\n",
      "  \"command_sent_timestamp\": 1760558273.837741,\n",
      "  \"command_pass\": 1,\n",
      "  \"last_command\": \"setExposure\",\n",
      "  \"last_command_success\": true,\n",
      "  \"exposure_time\": 30\n",
      "}\n"
     ]
    }
   ],
   "source": [
    "cam.print_state()"
   ]
  },
  {
   "cell_type": "code",
   "execution_count": null,
   "id": "c87545f4",
   "metadata": {},
   "outputs": [],
   "source": [
    "cam.print_state()"
   ]
  },
  {
   "cell_type": "code",
   "execution_count": 10,
   "id": "e6db7544",
   "metadata": {},
   "outputs": [
    {
     "name": "stdout",
     "output_type": "stream",
     "text": [
      "Connected to camera server at localhost:5555\n"
     ]
    },
    {
     "data": {
      "text/plain": [
       "{'status': 'success',\n",
       " 'data': {'tec_locked': 1,\n",
       "  'exposure': 60.0,\n",
       "  'nframes': 1,\n",
       "  'object': 'SCICAM',\n",
       "  'observer': 'unknown',\n",
       "  'save_path': '~/data/images/20251015/spring',\n",
       "  'tec_temp': -60.0,\n",
       "  'tec_setpoint': -60.0,\n",
       "  'soc': '30HZ_32MSEXP_-40C',\n",
       "  'gain_corr': 0,\n",
       "  'offset_corr': 0,\n",
       "  'sub_corr': 0,\n",
       "  'tec_enabled': 1,\n",
       "  'tec_voltage': 5.273958,\n",
       "  'case_temp': 14.72,\n",
       "  'digpcb_temp': 34.25,\n",
       "  'senspcb_temp': 13.25,\n",
       "  'waiting_on_exposure_update': 0,\n",
       "  'ready': True,\n",
       "  'timeout_remaining': 0.0,\n",
       "  'is_capturing': False,\n",
       "  'current_frame': 0,\n",
       "  'total_frames': 0,\n",
       "  'capture_time_remaining': 0.0,\n",
       "  'camera_state': 'READY'}}"
      ]
     },
     "execution_count": 10,
     "metadata": {},
     "output_type": "execute_result"
    }
   ],
   "source": [
    "from pirtcam.client import CameraClient\n",
    "cc = CameraClient(\"localhost\", 5555)\n",
    "cc.connect()\n",
    "\n",
    "cc.get_status()"
   ]
  },
  {
   "cell_type": "code",
   "execution_count": 11,
   "id": "d324ba27",
   "metadata": {},
   "outputs": [
    {
     "data": {
      "text/plain": [
       "{'status': 'success',\n",
       " 'message': 'Exposure set to 10s (not waiting for settle)'}"
      ]
     },
     "execution_count": 11,
     "metadata": {},
     "output_type": "execute_result"
    }
   ],
   "source": [
    "cc.set_exposure(10)"
   ]
  },
  {
   "cell_type": "code",
   "execution_count": 12,
   "id": "dce9c0ab",
   "metadata": {},
   "outputs": [
    {
     "data": {
      "text/plain": [
       "{'status': 'success',\n",
       " 'data': {'tec_locked': 1,\n",
       "  'exposure': 10.0,\n",
       "  'nframes': 1,\n",
       "  'object': 'SCICAM',\n",
       "  'observer': 'unknown',\n",
       "  'save_path': '~/data/images/20251015/spring',\n",
       "  'tec_temp': -60.0,\n",
       "  'tec_setpoint': -60.0,\n",
       "  'soc': '30HZ_32MSEXP_-40C',\n",
       "  'gain_corr': 0,\n",
       "  'offset_corr': 0,\n",
       "  'sub_corr': 0,\n",
       "  'tec_enabled': 1,\n",
       "  'tec_voltage': 5.329361,\n",
       "  'case_temp': 14.72,\n",
       "  'digpcb_temp': 34.25,\n",
       "  'senspcb_temp': 13.25,\n",
       "  'waiting_on_exposure_update': 1,\n",
       "  'ready': False,\n",
       "  'timeout_remaining': 20.771533727645874,\n",
       "  'is_capturing': False,\n",
       "  'current_frame': 0,\n",
       "  'total_frames': 0,\n",
       "  'capture_time_remaining': 0.0,\n",
       "  'camera_state': 'SETTING_EXPOSURE'}}"
      ]
     },
     "execution_count": 12,
     "metadata": {},
     "output_type": "execute_result"
    }
   ],
   "source": [
    "cc.get_status()"
   ]
  },
  {
   "cell_type": "code",
   "execution_count": null,
   "id": "5fd8730a",
   "metadata": {},
   "outputs": [],
   "source": []
  }
 ],
 "metadata": {
  "kernelspec": {
   "display_name": "Python 3",
   "language": "python",
   "name": "python3"
  },
  "language_info": {
   "codemirror_mode": {
    "name": "ipython",
    "version": 3
   },
   "file_extension": ".py",
   "mimetype": "text/x-python",
   "name": "python",
   "nbconvert_exporter": "python",
   "pygments_lexer": "ipython3",
   "version": "3.9.23"
  }
 },
 "nbformat": 4,
 "nbformat_minor": 5
}
