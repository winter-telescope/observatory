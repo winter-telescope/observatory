{
 "cells": [
  {
   "cell_type": "code",
   "execution_count": 5,
   "id": "c5d2e110",
   "metadata": {},
   "outputs": [
    {
     "name": "stdout",
     "output_type": "stream",
     "text": [
      "spring local interface: init_remote_object: trying to connect to SpringCamera\n",
      "Remote camera state: OFF\n"
     ]
    }
   ],
   "source": [
    "from wsp.camera.camera import BaseCamera\n",
    "from wsp.utils.paths import WSP_PATH, CONFIG_PATH\n",
    "from wsp.utils.utils import loadconfig\n",
    "import time\n",
    "import json\n",
    "\n",
    "from wsp.camera.implementations.spring_camera import SpringCamera\n",
    "\n",
    "config = loadconfig(CONFIG_PATH)\n",
    "\n",
    "cam = SpringCamera(\n",
    "    base_directory=WSP_PATH,\n",
    "    config=config,\n",
    "    camname=\"spring\",\n",
    "    daemon_pyro_name=\"SpringCamera\",\n",
    "    logger=None,\n",
    "    verbose=True,\n",
    ")"
   ]
  },
  {
   "cell_type": "code",
   "execution_count": 6,
   "id": "8507fa54",
   "metadata": {},
   "outputs": [
    {
     "name": "stdout",
     "output_type": "stream",
     "text": [
      "Remote camera state: OFF\n",
      "{\n",
      "  \"timestamp\": 1760057853.100746,\n",
      "  \"camname\": \"spring\",\n",
      "  \"is_connected\": true,\n",
      "  \"camera_state\": \"OFF\",\n",
      "  \"imdir\": \"\",\n",
      "  \"imname\": \"\",\n",
      "  \"imstarttime\": \"\",\n",
      "  \"imtype\": null,\n",
      "  \"immode\": null,\n",
      "  \"tec_temp\": 0,\n",
      "  \"tec_enabled\": 0,\n",
      "  \"tec_setpoint\": 0.0,\n",
      "  \"tec_voltage\": 0.0,\n",
      "  \"tec_current\": 0.0,\n",
      "  \"tec_percentage\": 0.0,\n",
      "  \"exptime\": 0.0\n",
      "}\n",
      "Remote camera state: OFF\n",
      "None\n"
     ]
    }
   ],
   "source": [
    "cam.print_state()\n",
    "\n",
    "state = cam.update_state()\n",
    "\n",
    "print(state)"
   ]
  },
  {
   "cell_type": "code",
   "execution_count": 7,
   "id": "0f70a1b6",
   "metadata": {},
   "outputs": [
    {
     "data": {
      "text/plain": [
       "{'camera_state': 'OFF',\n",
       " 'connected': True,\n",
       " 'timestamp': 1760058032.780038,\n",
       " 'exptime': 1.0,\n",
       " 'tec_temp': -60.014721,\n",
       " 'tec_enabled': 1,\n",
       " 'tec_setpoint': -59.998413,\n",
       " 'tec_voltage': 6.192373,\n",
       " 'tec_current': 4.204697716049383,\n",
       " 'tec_percentage': 68.80414444444445}"
      ]
     },
     "execution_count": 7,
     "metadata": {},
     "output_type": "execute_result"
    }
   ],
   "source": [
    "cam.remote_object.getStatus()"
   ]
  },
  {
   "cell_type": "code",
   "execution_count": 8,
   "id": "5ee32f5a",
   "metadata": {},
   "outputs": [
    {
     "name": "stdout",
     "output_type": "stream",
     "text": [
      "spring local interface: State changed: 2025-10-09 20:43:01.006382: OFF -> STARTUP_REQUESTED\n"
     ]
    }
   ],
   "source": [
    "cam.startupCamera()"
   ]
  },
  {
   "cell_type": "code",
   "execution_count": 9,
   "id": "9b2078af",
   "metadata": {},
   "outputs": [
    {
     "name": "stdout",
     "output_type": "stream",
     "text": [
      "spring local interface: State changed: 2025-10-09 20:18:21.347908: STARTUP_REQUESTED -> SETTING_PARAMETERS\n",
      "spring local interface: State changed: 2025-10-09 20:18:21.568239: SETTING_PARAMETERS -> READY\n"
     ]
    }
   ],
   "source": [
    "cam.setExposure(2)"
   ]
  },
  {
   "cell_type": "code",
   "execution_count": 9,
   "id": "c87545f4",
   "metadata": {},
   "outputs": [
    {
     "name": "stdout",
     "output_type": "stream",
     "text": [
      "spring local interface: State changed: 2025-10-09 20:43:16.901583: STARTUP_REQUESTED -> READY\n",
      "{\n",
      "  \"timestamp\": 1760056996.901583,\n",
      "  \"camname\": \"spring\",\n",
      "  \"is_connected\": true,\n",
      "  \"camera_state\": \"READY\",\n",
      "  \"imdir\": \"\",\n",
      "  \"imname\": \"\",\n",
      "  \"imstarttime\": \"\",\n",
      "  \"imtype\": null,\n",
      "  \"immode\": null,\n",
      "  \"tec_temp\": 0,\n",
      "  \"tec_enabled\": 0,\n",
      "  \"tec_setpoint\": 0.0,\n",
      "  \"tec_voltage\": 0.0,\n",
      "  \"tec_current\": 0.0,\n",
      "  \"tec_percentage\": 0.0,\n",
      "  \"exptime\": 0.0\n",
      "}\n"
     ]
    }
   ],
   "source": [
    "cam.print_state()"
   ]
  },
  {
   "cell_type": "code",
   "execution_count": 17,
   "id": "e6db7544",
   "metadata": {},
   "outputs": [
    {
     "name": "stdout",
     "output_type": "stream",
     "text": [
      "Connected to camera server at localhost:5555\n",
      "{\n",
      "  \"status\": \"success\",\n",
      "  \"data\": {\n",
      "    \"tec_locked\": 1,\n",
      "    \"exposure\": 1.0,\n",
      "    \"nframes\": 1,\n",
      "    \"object\": \"SCICAM\",\n",
      "    \"observer\": \"MDM\",\n",
      "    \"save_path\": \"C:\\\\Users\\\\oir-user/data\",\n",
      "    \"tec_temp\": -60.014721,\n",
      "    \"tec_setpoint\": -59.998413,\n",
      "    \"soc\": \"30HZ_32MSEXP_-40C\",\n",
      "    \"gain_corr\": 0,\n",
      "    \"offset_corr\": 0,\n",
      "    \"sub_corr\": 0,\n",
      "    \"tec_lock\": 1,\n",
      "    \"tec_enabled\": 1,\n",
      "    \"tec_voltage\": 6.09009,\n",
      "    \"case_temp\": 20.081518,\n",
      "    \"digpcb_temp\": 42.0,\n",
      "    \"senspcb_temp\": 20.75,\n",
      "    \"waiting_on_exposure_update\": 0\n",
      "  }\n",
      "}\n"
     ]
    },
    {
     "data": {
      "text/plain": [
       "{'status': 'error', 'message': 'Response timeout'}"
      ]
     },
     "execution_count": 17,
     "metadata": {},
     "output_type": "execute_result"
    },
    {
     "name": "stdout",
     "output_type": "stream",
     "text": [
      "Receive error: [WinError 10054] An existing connection was forcibly closed by the remote host\n"
     ]
    }
   ],
   "source": [
    "from pirtcam.client import CameraClient\n",
    "\n",
    "cc = CameraClient(\"localhost\", 5555)\n",
    "cc.connect()\n",
    "\n",
    "cc.print_status()\n",
    "cc.set_tec_temperature(-55)\n"
   ]
  }
 ],
 "metadata": {
  "kernelspec": {
   "display_name": "Python 3",
   "language": "python",
   "name": "python3"
  },
  "language_info": {
   "codemirror_mode": {
    "name": "ipython",
    "version": 3
   },
   "file_extension": ".py",
   "mimetype": "text/x-python",
   "name": "python",
   "nbconvert_exporter": "python",
   "pygments_lexer": "ipython3",
   "version": "3.9.23"
  }
 },
 "nbformat": 4,
 "nbformat_minor": 5
}
